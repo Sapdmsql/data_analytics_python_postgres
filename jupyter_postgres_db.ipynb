{
 "cells": [
  {
   "cell_type": "markdown",
   "id": "61847f62",
   "metadata": {},
   "source": [
    "# Jupyter with PostgreSQL"
   ]
  },
  {
   "cell_type": "markdown",
   "id": "9b8df3dd",
   "metadata": {},
   "source": [
    "## Libararies and Settings"
   ]
  },
  {
   "cell_type": "code",
   "execution_count": 106,
   "id": "b027d889",
   "metadata": {},
   "outputs": [
    {
     "name": "stdout",
     "output_type": "stream",
     "text": [
      "/\n"
     ]
    }
   ],
   "source": [
    "# Libraries\n",
    "import os\n",
    "import re\n",
    "import psycopg2\n",
    "import pandas as pd\n",
    "import numpy as np\n",
    "from sqlalchemy import create_engine\n",
    "import matplotlib.pyplot as plt\n",
    "\n",
    "# Settings\n",
    "import warnings\n",
    "warnings.filterwarnings(\"ignore\")\n",
    "\n",
    "# Current working directory\n",
    "print(os.getcwd())"
   ]
  },
  {
   "cell_type": "markdown",
   "id": "ddc2ee8d",
   "metadata": {},
   "source": [
    "## Create database connection"
   ]
  },
  {
   "cell_type": "code",
   "execution_count": 107,
   "id": "54a73766-07de-4d4a-941c-fdc2616c92ff",
   "metadata": {},
   "outputs": [],
   "source": [
    "conn = psycopg2.connect(\"host=localhost dbname=app user=app_user password=app_password\")"
   ]
  },
  {
   "cell_type": "markdown",
   "id": "53f4b234",
   "metadata": {},
   "source": [
    "## Read data"
   ]
  },
  {
   "cell_type": "code",
   "execution_count": 108,
   "id": "ef32ffa2-1859-48af-a78c-0f1b5748fc98",
   "metadata": {},
   "outputs": [
    {
     "data": {
      "text/html": [
       "<div>\n",
       "<style scoped>\n",
       "    .dataframe tbody tr th:only-of-type {\n",
       "        vertical-align: middle;\n",
       "    }\n",
       "\n",
       "    .dataframe tbody tr th {\n",
       "        vertical-align: top;\n",
       "    }\n",
       "\n",
       "    .dataframe thead th {\n",
       "        text-align: right;\n",
       "    }\n",
       "</style>\n",
       "<table border=\"1\" class=\"dataframe\">\n",
       "  <thead>\n",
       "    <tr style=\"text-align: right;\">\n",
       "      <th></th>\n",
       "      <th>web-scraper-order</th>\n",
       "      <th>web-scraper-start-url</th>\n",
       "      <th>location_date</th>\n",
       "      <th>brand_type</th>\n",
       "      <th>price</th>\n",
       "    </tr>\n",
       "  </thead>\n",
       "  <tbody>\n",
       "    <tr>\n",
       "      <th>0</th>\n",
       "      <td>1703597180-1</td>\n",
       "      <td>https://www.tutti.ch/de/q/autos/Ak8CkY2Fyc5TAk...</td>\n",
       "      <td>Waadt, 1026, 03.10.2018, auf autoscout24.ch</td>\n",
       "      <td>LANCIA Dedra 2.0 i.e. LX</td>\n",
       "      <td>3'900.-</td>\n",
       "    </tr>\n",
       "    <tr>\n",
       "      <th>1</th>\n",
       "      <td>1703597180-2</td>\n",
       "      <td>https://www.tutti.ch/de/q/autos/Ak8CkY2Fyc5TAk...</td>\n",
       "      <td>Aargau, 5054, 08.09.2018, auf autoscout24.ch</td>\n",
       "      <td>VW Golf 1800 S-Plus (GL)</td>\n",
       "      <td>5'990.-</td>\n",
       "    </tr>\n",
       "    <tr>\n",
       "      <th>2</th>\n",
       "      <td>1703597180-3</td>\n",
       "      <td>https://www.tutti.ch/de/q/autos/Ak8CkY2Fyc5TAk...</td>\n",
       "      <td>Thurgau, 8370, 26.06.2018, auf autoscout24.ch</td>\n",
       "      <td>LANCIA Dedra 2.0 HF Integrale</td>\n",
       "      <td>6'950.-</td>\n",
       "    </tr>\n",
       "    <tr>\n",
       "      <th>3</th>\n",
       "      <td>1703597180-4</td>\n",
       "      <td>https://www.tutti.ch/de/q/autos/Ak8CkY2Fyc5TAk...</td>\n",
       "      <td>Bern, 3604, 04.06.2018, auf autoscout24.ch</td>\n",
       "      <td>LANCIA BETA 2000 Spider</td>\n",
       "      <td>19'990.-</td>\n",
       "    </tr>\n",
       "    <tr>\n",
       "      <th>4</th>\n",
       "      <td>1703597180-5</td>\n",
       "      <td>https://www.tutti.ch/de/q/autos/Ak8CkY2Fyc5TAk...</td>\n",
       "      <td>Bern, 4943, 04.04.2018, auf autoscout24.ch</td>\n",
       "      <td>VW Polo 1300 C (X)</td>\n",
       "      <td>12'900.-</td>\n",
       "    </tr>\n",
       "  </tbody>\n",
       "</table>\n",
       "</div>"
      ],
      "text/plain": [
       "  web-scraper-order                              web-scraper-start-url  \\\n",
       "0      1703597180-1  https://www.tutti.ch/de/q/autos/Ak8CkY2Fyc5TAk...   \n",
       "1      1703597180-2  https://www.tutti.ch/de/q/autos/Ak8CkY2Fyc5TAk...   \n",
       "2      1703597180-3  https://www.tutti.ch/de/q/autos/Ak8CkY2Fyc5TAk...   \n",
       "3      1703597180-4  https://www.tutti.ch/de/q/autos/Ak8CkY2Fyc5TAk...   \n",
       "4      1703597180-5  https://www.tutti.ch/de/q/autos/Ak8CkY2Fyc5TAk...   \n",
       "\n",
       "                                   location_date  \\\n",
       "0    Waadt, 1026, 03.10.2018, auf autoscout24.ch   \n",
       "1   Aargau, 5054, 08.09.2018, auf autoscout24.ch   \n",
       "2  Thurgau, 8370, 26.06.2018, auf autoscout24.ch   \n",
       "3     Bern, 3604, 04.06.2018, auf autoscout24.ch   \n",
       "4     Bern, 4943, 04.04.2018, auf autoscout24.ch   \n",
       "\n",
       "                      brand_type     price  \n",
       "0       LANCIA Dedra 2.0 i.e. LX   3'900.-  \n",
       "1       VW Golf 1800 S-Plus (GL)   5'990.-  \n",
       "2  LANCIA Dedra 2.0 HF Integrale   6'950.-  \n",
       "3        LANCIA BETA 2000 Spider  19'990.-  \n",
       "4             VW Polo 1300 C (X)  12'900.-  "
      ]
     },
     "execution_count": 108,
     "metadata": {},
     "output_type": "execute_result"
    }
   ],
   "source": [
    "df = pd.read_csv('/workspace/Tutti.csv', sep=',')\n",
    "df.head(5)"
   ]
  },
  {
   "cell_type": "markdown",
   "id": "3685ed50",
   "metadata": {},
   "source": [
    "## Count number of rows and columns in the data frame"
   ]
  },
  {
   "cell_type": "code",
   "execution_count": 109,
   "id": "366048d0",
   "metadata": {},
   "outputs": [
    {
     "name": "stdout",
     "output_type": "stream",
     "text": [
      "Dimension: (2804, 5)\n",
      "Number of rows: 2804\n",
      "Number of columns: 5\n"
     ]
    }
   ],
   "source": [
    "# Dimension (rows, columns)\n",
    "print('Dimension:', df.shape)\n",
    "\n",
    "# Number of rows\n",
    "print('Number of rows:', df.shape[0])\n",
    "\n",
    "# Number of columns\n",
    "print('Number of columns:', df.shape[1])"
   ]
  },
  {
   "cell_type": "markdown",
   "id": "610bae31",
   "metadata": {},
   "source": [
    "## Extract and save relevant information from raw data using regular expressions (regex)"
   ]
  },
  {
   "cell_type": "markdown",
   "id": "e3688c3f",
   "metadata": {},
   "source": [
    "### Extract Canton"
   ]
  },
  {
   "cell_type": "code",
   "execution_count": 110,
   "id": "0a6a0c4b",
   "metadata": {},
   "outputs": [
    {
     "name": "stdout",
     "output_type": "stream",
     "text": [
      "0      Waadt, 1026, 03.10.2018, auf autoscout24.ch\n",
      "1     Aargau, 5054, 08.09.2018, auf autoscout24.ch\n",
      "2    Thurgau, 8370, 26.06.2018, auf autoscout24.ch\n",
      "3       Bern, 3604, 04.06.2018, auf autoscout24.ch\n",
      "4       Bern, 4943, 04.04.2018, auf autoscout24.ch\n",
      "Name: location_date, dtype: object \n",
      "\n",
      "0      Waadt\n",
      "1     Aargau\n",
      "2    Thurgau\n",
      "3       Bern\n",
      "4       Bern\n",
      "Name: canton, dtype: object\n"
     ]
    }
   ],
   "source": [
    "# Extrahiere das erste Wort vor dem Komma in den Strings der 'location_date' Spalte\n",
    "cantons = []\n",
    "for i in df['location_date']:\n",
    "    split_string = i.split(',')[0].strip()  # Teilt den String am Komma und nimmt den ersten Teil\n",
    "    cantons.append(split_string)\n",
    "\n",
    "# Speichere als neue Variable im Pandas DataFrame\n",
    "df['canton'] = cantons\n",
    "\n",
    "# Gib die ersten 5 Werte aus\n",
    "print(df['location_date'].head(5), '\\n')\n",
    "print(df['canton'].head(5))"
   ]
  },
  {
   "cell_type": "markdown",
   "id": "cef9821d",
   "metadata": {},
   "source": [
    "### Extract PLZ"
   ]
  },
  {
   "cell_type": "code",
   "execution_count": 111,
   "id": "f8954943",
   "metadata": {},
   "outputs": [
    {
     "name": "stdout",
     "output_type": "stream",
     "text": [
      "0      Waadt, 1026, 03.10.2018, auf autoscout24.ch\n",
      "1     Aargau, 5054, 08.09.2018, auf autoscout24.ch\n",
      "2    Thurgau, 8370, 26.06.2018, auf autoscout24.ch\n",
      "3       Bern, 3604, 04.06.2018, auf autoscout24.ch\n",
      "4       Bern, 4943, 04.04.2018, auf autoscout24.ch\n",
      "Name: location_date, dtype: object \n",
      "\n",
      "0    1026\n",
      "1    5054\n",
      "2    8370\n",
      "3    3604\n",
      "4    4943\n",
      "Name: plz, dtype: int64\n"
     ]
    }
   ],
   "source": [
    "\n",
    "# Extrahiere die PLZ, die nach dem ersten und vor dem zweiten Komma kommt\n",
    "plz_list = []\n",
    "for i in df['location_date']:\n",
    "    parts = i.split(',')\n",
    "    try:\n",
    "        plz = parts[1].strip()  # Wählt den zweiten Teil nach dem Split, der die PLZ enthält\n",
    "    except IndexError:\n",
    "        plz = None  # Falls weniger als 2 Kommas vorhanden sind\n",
    "    plz_list.append(plz)\n",
    "\n",
    "# Speichere als neue Variable im Pandas DataFrame\n",
    "df['plz'] = plz_list\n",
    "\n",
    "df = df[df['plz'].apply(lambda x: len(str(x)) == 4)]\n",
    "\n",
    "try:\n",
    "    df['plz'] = df['plz'].astype('int64')\n",
    "except ValueError:\n",
    "    print(\"Konvertierung fehlgeschlagen: Die Spalte enthält ungültige oder fehlende Werte.\")\n",
    "\n",
    "# Gib die ersten 5 Werte aus\n",
    "print(df['location_date'].head(5), '\\n')\n",
    "print(df['plz'].head(5))\n"
   ]
  },
  {
   "cell_type": "markdown",
   "id": "beb97d4f",
   "metadata": {},
   "source": [
    "### Remove .- in the price and set the type to float"
   ]
  },
  {
   "cell_type": "code",
   "execution_count": 112,
   "id": "71bc2cee",
   "metadata": {},
   "outputs": [
    {
     "data": {
      "text/plain": [
       "0     3900.0\n",
       "1     5990.0\n",
       "2     6950.0\n",
       "3    19990.0\n",
       "4    12900.0\n",
       "Name: price, dtype: float64"
      ]
     },
     "execution_count": 112,
     "metadata": {},
     "output_type": "execute_result"
    }
   ],
   "source": [
    "df['price'] = df['price'].str.replace(\"'\", \"\")  # Entfernt Apostroph (Tausendertrennzeichen)\n",
    "\n",
    "# Kann nur einmal ausgeführt werden, da der Typ nur einmalig geändert werden kann! Sonst benötigt es einen neuen \"Alle Ausführen\".\n",
    "df['price'] = df['price'].replace({r'\\.-$': ''}, regex=True).astype(float) \n",
    "df['price'].head()"
   ]
  },
  {
   "cell_type": "code",
   "execution_count": 113,
   "id": "038d7997",
   "metadata": {},
   "outputs": [
    {
     "data": {
      "text/plain": [
       "web-scraper-order         object\n",
       "web-scraper-start-url     object\n",
       "location_date             object\n",
       "brand_type                object\n",
       "price                    float64\n",
       "canton                    object\n",
       "plz                        int64\n",
       "dtype: object"
      ]
     },
     "execution_count": 113,
     "metadata": {},
     "output_type": "execute_result"
    }
   ],
   "source": [
    "df.dtypes"
   ]
  },
  {
   "cell_type": "markdown",
   "id": "2ec96fcc",
   "metadata": {},
   "source": [
    "## Count and identify missing values (if any)"
   ]
  },
  {
   "cell_type": "code",
   "execution_count": 114,
   "id": "cc384d4b",
   "metadata": {},
   "outputs": [
    {
     "name": "stdout",
     "output_type": "stream",
     "text": [
      "web-scraper-order        0\n",
      "web-scraper-start-url    0\n",
      "location_date            0\n",
      "brand_type               0\n",
      "price                    0\n",
      "canton                   0\n",
      "plz                      0\n",
      "dtype: int64\n"
     ]
    },
    {
     "data": {
      "text/html": [
       "<div>\n",
       "<style scoped>\n",
       "    .dataframe tbody tr th:only-of-type {\n",
       "        vertical-align: middle;\n",
       "    }\n",
       "\n",
       "    .dataframe tbody tr th {\n",
       "        vertical-align: top;\n",
       "    }\n",
       "\n",
       "    .dataframe thead th {\n",
       "        text-align: right;\n",
       "    }\n",
       "</style>\n",
       "<table border=\"1\" class=\"dataframe\">\n",
       "  <thead>\n",
       "    <tr style=\"text-align: right;\">\n",
       "      <th></th>\n",
       "      <th>web-scraper-order</th>\n",
       "      <th>web-scraper-start-url</th>\n",
       "      <th>location_date</th>\n",
       "      <th>brand_type</th>\n",
       "      <th>price</th>\n",
       "      <th>canton</th>\n",
       "      <th>plz</th>\n",
       "    </tr>\n",
       "  </thead>\n",
       "  <tbody>\n",
       "  </tbody>\n",
       "</table>\n",
       "</div>"
      ],
      "text/plain": [
       "Empty DataFrame\n",
       "Columns: [web-scraper-order, web-scraper-start-url, location_date, brand_type, price, canton, plz]\n",
       "Index: []"
      ]
     },
     "execution_count": 114,
     "metadata": {},
     "output_type": "execute_result"
    }
   ],
   "source": [
    "# Count missing values\n",
    "print(pd.isna(df).sum())\n",
    "\n",
    "# Identify rows with missing values\n",
    "df[df.isna().any(axis=1)].head()"
   ]
  },
  {
   "cell_type": "markdown",
   "id": "b03d6d1b",
   "metadata": {},
   "source": [
    "### Count and identify dublicates"
   ]
  },
  {
   "cell_type": "code",
   "execution_count": 115,
   "id": "e19682cf",
   "metadata": {},
   "outputs": [
    {
     "name": "stdout",
     "output_type": "stream",
     "text": [
      "0\n"
     ]
    },
    {
     "data": {
      "text/html": [
       "<div>\n",
       "<style scoped>\n",
       "    .dataframe tbody tr th:only-of-type {\n",
       "        vertical-align: middle;\n",
       "    }\n",
       "\n",
       "    .dataframe tbody tr th {\n",
       "        vertical-align: top;\n",
       "    }\n",
       "\n",
       "    .dataframe thead th {\n",
       "        text-align: right;\n",
       "    }\n",
       "</style>\n",
       "<table border=\"1\" class=\"dataframe\">\n",
       "  <thead>\n",
       "    <tr style=\"text-align: right;\">\n",
       "      <th></th>\n",
       "      <th>web-scraper-order</th>\n",
       "      <th>web-scraper-start-url</th>\n",
       "      <th>location_date</th>\n",
       "      <th>brand_type</th>\n",
       "      <th>price</th>\n",
       "      <th>canton</th>\n",
       "      <th>plz</th>\n",
       "    </tr>\n",
       "  </thead>\n",
       "  <tbody>\n",
       "  </tbody>\n",
       "</table>\n",
       "</div>"
      ],
      "text/plain": [
       "Empty DataFrame\n",
       "Columns: [web-scraper-order, web-scraper-start-url, location_date, brand_type, price, canton, plz]\n",
       "Index: []"
      ]
     },
     "execution_count": 115,
     "metadata": {},
     "output_type": "execute_result"
    }
   ],
   "source": [
    "# Count duplicated values\n",
    "print(df.duplicated().sum())\n",
    "\n",
    "# Identify rows with duplicated values, e.g.:\n",
    "df[df[['web-scraper-order', 'location_date', 'brand_type']].duplicated()]"
   ]
  },
  {
   "cell_type": "code",
   "execution_count": 116,
   "id": "0f25b34e",
   "metadata": {},
   "outputs": [
    {
     "data": {
      "text/html": [
       "<div>\n",
       "<style scoped>\n",
       "    .dataframe tbody tr th:only-of-type {\n",
       "        vertical-align: middle;\n",
       "    }\n",
       "\n",
       "    .dataframe tbody tr th {\n",
       "        vertical-align: top;\n",
       "    }\n",
       "\n",
       "    .dataframe thead th {\n",
       "        text-align: right;\n",
       "    }\n",
       "</style>\n",
       "<table border=\"1\" class=\"dataframe\">\n",
       "  <thead>\n",
       "    <tr style=\"text-align: right;\">\n",
       "      <th></th>\n",
       "      <th>ort</th>\n",
       "      <th>bfs_number</th>\n",
       "      <th>plz</th>\n",
       "    </tr>\n",
       "  </thead>\n",
       "  <tbody>\n",
       "    <tr>\n",
       "      <th>0</th>\n",
       "      <td>Aeugst am Albis</td>\n",
       "      <td>1</td>\n",
       "      <td>8914</td>\n",
       "    </tr>\n",
       "    <tr>\n",
       "      <th>1</th>\n",
       "      <td>Aeugst am Albis</td>\n",
       "      <td>1</td>\n",
       "      <td>8914</td>\n",
       "    </tr>\n",
       "    <tr>\n",
       "      <th>2</th>\n",
       "      <td>Affoltern am Albis</td>\n",
       "      <td>2</td>\n",
       "      <td>8909</td>\n",
       "    </tr>\n",
       "    <tr>\n",
       "      <th>3</th>\n",
       "      <td>Affoltern am Albis</td>\n",
       "      <td>2</td>\n",
       "      <td>8910</td>\n",
       "    </tr>\n",
       "    <tr>\n",
       "      <th>4</th>\n",
       "      <td>Bonstetten</td>\n",
       "      <td>3</td>\n",
       "      <td>8906</td>\n",
       "    </tr>\n",
       "  </tbody>\n",
       "</table>\n",
       "</div>"
      ],
      "text/plain": [
       "                  ort  bfs_number   plz\n",
       "0     Aeugst am Albis           1  8914\n",
       "1     Aeugst am Albis           1  8914\n",
       "2  Affoltern am Albis           2  8909\n",
       "3  Affoltern am Albis           2  8910\n",
       "4          Bonstetten           3  8906"
      ]
     },
     "execution_count": 116,
     "metadata": {},
     "output_type": "execute_result"
    }
   ],
   "source": [
    "# Geocoded data (i.e. data with latitude and longitude)\n",
    "df_geo = pd.read_csv('/workspace/PLZ_Ortschaft_BFSNummer.csv', \n",
    "                     sep=';', \n",
    "                     encoding='utf-8')\n",
    "\n",
    "# Rename columns\n",
    "df_geo = df_geo.rename(columns={'Gemeindename':'ort',\n",
    "                                'BFS-Nr':'bfs_number', \n",
    "                                'PLZ':'plz'})\n",
    "\n",
    "# Show data\n",
    "df_geo[['ort', \n",
    "        'bfs_number', \n",
    "        'plz']].head()"
   ]
  },
  {
   "cell_type": "markdown",
   "id": "57e3bf17",
   "metadata": {},
   "source": [
    "### Join informations"
   ]
  },
  {
   "cell_type": "code",
   "execution_count": 117,
   "id": "37055fea",
   "metadata": {},
   "outputs": [
    {
     "data": {
      "text/html": [
       "<div>\n",
       "<style scoped>\n",
       "    .dataframe tbody tr th:only-of-type {\n",
       "        vertical-align: middle;\n",
       "    }\n",
       "\n",
       "    .dataframe tbody tr th {\n",
       "        vertical-align: top;\n",
       "    }\n",
       "\n",
       "    .dataframe thead th {\n",
       "        text-align: right;\n",
       "    }\n",
       "</style>\n",
       "<table border=\"1\" class=\"dataframe\">\n",
       "  <thead>\n",
       "    <tr style=\"text-align: right;\">\n",
       "      <th></th>\n",
       "      <th>web-scraper-order</th>\n",
       "      <th>web-scraper-start-url</th>\n",
       "      <th>location_date</th>\n",
       "      <th>brand_type</th>\n",
       "      <th>price</th>\n",
       "      <th>canton</th>\n",
       "      <th>plz</th>\n",
       "      <th>ort</th>\n",
       "      <th>bfs_number</th>\n",
       "    </tr>\n",
       "  </thead>\n",
       "  <tbody>\n",
       "    <tr>\n",
       "      <th>0</th>\n",
       "      <td>1703597180-1</td>\n",
       "      <td>https://www.tutti.ch/de/q/autos/Ak8CkY2Fyc5TAk...</td>\n",
       "      <td>Waadt, 1026, 03.10.2018, auf autoscout24.ch</td>\n",
       "      <td>LANCIA Dedra 2.0 i.e. LX</td>\n",
       "      <td>3900.0</td>\n",
       "      <td>Waadt</td>\n",
       "      <td>1026</td>\n",
       "      <td>Denges</td>\n",
       "      <td>5632</td>\n",
       "    </tr>\n",
       "    <tr>\n",
       "      <th>1</th>\n",
       "      <td>1703597180-1</td>\n",
       "      <td>https://www.tutti.ch/de/q/autos/Ak8CkY2Fyc5TAk...</td>\n",
       "      <td>Waadt, 1026, 03.10.2018, auf autoscout24.ch</td>\n",
       "      <td>LANCIA Dedra 2.0 i.e. LX</td>\n",
       "      <td>3900.0</td>\n",
       "      <td>Waadt</td>\n",
       "      <td>1026</td>\n",
       "      <td>Echandens</td>\n",
       "      <td>5633</td>\n",
       "    </tr>\n",
       "    <tr>\n",
       "      <th>2</th>\n",
       "      <td>1703597180-2</td>\n",
       "      <td>https://www.tutti.ch/de/q/autos/Ak8CkY2Fyc5TAk...</td>\n",
       "      <td>Aargau, 5054, 08.09.2018, auf autoscout24.ch</td>\n",
       "      <td>VW Golf 1800 S-Plus (GL)</td>\n",
       "      <td>5990.0</td>\n",
       "      <td>Aargau</td>\n",
       "      <td>5054</td>\n",
       "      <td>Kirchleerau</td>\n",
       "      <td>4275</td>\n",
       "    </tr>\n",
       "    <tr>\n",
       "      <th>3</th>\n",
       "      <td>1703597180-2</td>\n",
       "      <td>https://www.tutti.ch/de/q/autos/Ak8CkY2Fyc5TAk...</td>\n",
       "      <td>Aargau, 5054, 08.09.2018, auf autoscout24.ch</td>\n",
       "      <td>VW Golf 1800 S-Plus (GL)</td>\n",
       "      <td>5990.0</td>\n",
       "      <td>Aargau</td>\n",
       "      <td>5054</td>\n",
       "      <td>Moosleerau</td>\n",
       "      <td>4277</td>\n",
       "    </tr>\n",
       "    <tr>\n",
       "      <th>4</th>\n",
       "      <td>1703597192-34</td>\n",
       "      <td>https://www.tutti.ch/de/q/autos/Ak8CkY2Fyc5TAk...</td>\n",
       "      <td>Aargau, 5054, 16.03.2020, auf autoscout24.ch</td>\n",
       "      <td>MITSUBISHI Colt 1400 GLX A</td>\n",
       "      <td>5990.0</td>\n",
       "      <td>Aargau</td>\n",
       "      <td>5054</td>\n",
       "      <td>Kirchleerau</td>\n",
       "      <td>4275</td>\n",
       "    </tr>\n",
       "  </tbody>\n",
       "</table>\n",
       "</div>"
      ],
      "text/plain": [
       "  web-scraper-order                              web-scraper-start-url  \\\n",
       "0      1703597180-1  https://www.tutti.ch/de/q/autos/Ak8CkY2Fyc5TAk...   \n",
       "1      1703597180-1  https://www.tutti.ch/de/q/autos/Ak8CkY2Fyc5TAk...   \n",
       "2      1703597180-2  https://www.tutti.ch/de/q/autos/Ak8CkY2Fyc5TAk...   \n",
       "3      1703597180-2  https://www.tutti.ch/de/q/autos/Ak8CkY2Fyc5TAk...   \n",
       "4     1703597192-34  https://www.tutti.ch/de/q/autos/Ak8CkY2Fyc5TAk...   \n",
       "\n",
       "                                  location_date                  brand_type  \\\n",
       "0   Waadt, 1026, 03.10.2018, auf autoscout24.ch    LANCIA Dedra 2.0 i.e. LX   \n",
       "1   Waadt, 1026, 03.10.2018, auf autoscout24.ch    LANCIA Dedra 2.0 i.e. LX   \n",
       "2  Aargau, 5054, 08.09.2018, auf autoscout24.ch    VW Golf 1800 S-Plus (GL)   \n",
       "3  Aargau, 5054, 08.09.2018, auf autoscout24.ch    VW Golf 1800 S-Plus (GL)   \n",
       "4  Aargau, 5054, 16.03.2020, auf autoscout24.ch  MITSUBISHI Colt 1400 GLX A   \n",
       "\n",
       "    price  canton   plz          ort  bfs_number  \n",
       "0  3900.0   Waadt  1026       Denges        5632  \n",
       "1  3900.0   Waadt  1026    Echandens        5633  \n",
       "2  5990.0  Aargau  5054  Kirchleerau        4275  \n",
       "3  5990.0  Aargau  5054   Moosleerau        4277  \n",
       "4  5990.0  Aargau  5054  Kirchleerau        4275  "
      ]
     },
     "execution_count": 117,
     "metadata": {},
     "output_type": "execute_result"
    }
   ],
   "source": [
    "df2 = df.merge(df_geo[['ort',  \n",
    "                       'bfs_number', \n",
    "                       'plz']], \n",
    "               on=\"plz\")\n",
    "df2.head()\n"
   ]
  },
  {
   "cell_type": "markdown",
   "id": "1338922c",
   "metadata": {},
   "source": [
    "## Add municipalities"
   ]
  },
  {
   "cell_type": "code",
   "execution_count": 118,
   "id": "2249b3df",
   "metadata": {},
   "outputs": [
    {
     "data": {
      "text/html": [
       "<div>\n",
       "<style scoped>\n",
       "    .dataframe tbody tr th:only-of-type {\n",
       "        vertical-align: middle;\n",
       "    }\n",
       "\n",
       "    .dataframe tbody tr th {\n",
       "        vertical-align: top;\n",
       "    }\n",
       "\n",
       "    .dataframe thead th {\n",
       "        text-align: right;\n",
       "    }\n",
       "</style>\n",
       "<table border=\"1\" class=\"dataframe\">\n",
       "  <thead>\n",
       "    <tr style=\"text-align: right;\">\n",
       "      <th></th>\n",
       "      <th>bfs_number</th>\n",
       "      <th>bfs_name</th>\n",
       "      <th>pop</th>\n",
       "      <th>pop_dens</th>\n",
       "      <th>frg_pct</th>\n",
       "      <th>emp</th>\n",
       "      <th>mean_taxable_income</th>\n",
       "    </tr>\n",
       "  </thead>\n",
       "  <tbody>\n",
       "    <tr>\n",
       "      <th>0</th>\n",
       "      <td>1</td>\n",
       "      <td>Aeugst am Albis</td>\n",
       "      <td>1981</td>\n",
       "      <td>250.442478</td>\n",
       "      <td>14.184755</td>\n",
       "      <td>442.0</td>\n",
       "      <td>105013.570634</td>\n",
       "    </tr>\n",
       "    <tr>\n",
       "      <th>1</th>\n",
       "      <td>2</td>\n",
       "      <td>Affoltern am Albis</td>\n",
       "      <td>12303</td>\n",
       "      <td>1161.756374</td>\n",
       "      <td>28.700317</td>\n",
       "      <td>6920.0</td>\n",
       "      <td>71059.805603</td>\n",
       "    </tr>\n",
       "    <tr>\n",
       "      <th>2</th>\n",
       "      <td>3</td>\n",
       "      <td>Bonstetten</td>\n",
       "      <td>5572</td>\n",
       "      <td>749.932705</td>\n",
       "      <td>16.564968</td>\n",
       "      <td>1014.0</td>\n",
       "      <td>88927.698145</td>\n",
       "    </tr>\n",
       "    <tr>\n",
       "      <th>3</th>\n",
       "      <td>4</td>\n",
       "      <td>Hausen am Albis</td>\n",
       "      <td>3751</td>\n",
       "      <td>275.808824</td>\n",
       "      <td>16.022394</td>\n",
       "      <td>1021.0</td>\n",
       "      <td>86300.455137</td>\n",
       "    </tr>\n",
       "    <tr>\n",
       "      <th>4</th>\n",
       "      <td>5</td>\n",
       "      <td>Hedingen</td>\n",
       "      <td>3778</td>\n",
       "      <td>578.560490</td>\n",
       "      <td>16.410799</td>\n",
       "      <td>1478.0</td>\n",
       "      <td>90811.205330</td>\n",
       "    </tr>\n",
       "  </tbody>\n",
       "</table>\n",
       "</div>"
      ],
      "text/plain": [
       "   bfs_number            bfs_name    pop     pop_dens    frg_pct     emp  \\\n",
       "0           1     Aeugst am Albis   1981   250.442478  14.184755   442.0   \n",
       "1           2  Affoltern am Albis  12303  1161.756374  28.700317  6920.0   \n",
       "2           3          Bonstetten   5572   749.932705  16.564968  1014.0   \n",
       "3           4     Hausen am Albis   3751   275.808824  16.022394  1021.0   \n",
       "4           5            Hedingen   3778   578.560490  16.410799  1478.0   \n",
       "\n",
       "   mean_taxable_income  \n",
       "0        105013.570634  \n",
       "1         71059.805603  \n",
       "2         88927.698145  \n",
       "3         86300.455137  \n",
       "4         90811.205330  "
      ]
     },
     "execution_count": 118,
     "metadata": {},
     "output_type": "execute_result"
    }
   ],
   "source": [
    "df_municip = pd.read_excel('/workspace/municipality_data (1).xlsx', \n",
    "                           sheet_name='data_for_import')\n",
    "df_municip.head(5)"
   ]
  },
  {
   "cell_type": "code",
   "execution_count": 119,
   "id": "4349e661",
   "metadata": {},
   "outputs": [
    {
     "data": {
      "text/html": [
       "<div>\n",
       "<style scoped>\n",
       "    .dataframe tbody tr th:only-of-type {\n",
       "        vertical-align: middle;\n",
       "    }\n",
       "\n",
       "    .dataframe tbody tr th {\n",
       "        vertical-align: top;\n",
       "    }\n",
       "\n",
       "    .dataframe thead th {\n",
       "        text-align: right;\n",
       "    }\n",
       "</style>\n",
       "<table border=\"1\" class=\"dataframe\">\n",
       "  <thead>\n",
       "    <tr style=\"text-align: right;\">\n",
       "      <th></th>\n",
       "      <th>web-scraper-order</th>\n",
       "      <th>web-scraper-start-url</th>\n",
       "      <th>location_date</th>\n",
       "      <th>brand_type</th>\n",
       "      <th>price</th>\n",
       "      <th>canton</th>\n",
       "      <th>plz</th>\n",
       "      <th>ort</th>\n",
       "      <th>bfs_number</th>\n",
       "      <th>pop</th>\n",
       "      <th>pop_dens</th>\n",
       "      <th>frg_pct</th>\n",
       "      <th>emp</th>\n",
       "      <th>mean_taxable_income</th>\n",
       "    </tr>\n",
       "  </thead>\n",
       "  <tbody>\n",
       "    <tr>\n",
       "      <th>0</th>\n",
       "      <td>1703597180-1</td>\n",
       "      <td>https://www.tutti.ch/de/q/autos/Ak8CkY2Fyc5TAk...</td>\n",
       "      <td>Waadt, 1026, 03.10.2018, auf autoscout24.ch</td>\n",
       "      <td>LANCIA Dedra 2.0 i.e. LX</td>\n",
       "      <td>3900.0</td>\n",
       "      <td>Waadt</td>\n",
       "      <td>1026</td>\n",
       "      <td>Denges</td>\n",
       "      <td>5632</td>\n",
       "      <td>1608</td>\n",
       "      <td>968.674699</td>\n",
       "      <td>29.228856</td>\n",
       "      <td>895.0</td>\n",
       "      <td>84307.739938</td>\n",
       "    </tr>\n",
       "    <tr>\n",
       "      <th>1</th>\n",
       "      <td>1703597180-1</td>\n",
       "      <td>https://www.tutti.ch/de/q/autos/Ak8CkY2Fyc5TAk...</td>\n",
       "      <td>Waadt, 1026, 03.10.2018, auf autoscout24.ch</td>\n",
       "      <td>LANCIA Dedra 2.0 i.e. LX</td>\n",
       "      <td>3900.0</td>\n",
       "      <td>Waadt</td>\n",
       "      <td>1026</td>\n",
       "      <td>Echandens</td>\n",
       "      <td>5633</td>\n",
       "      <td>2733</td>\n",
       "      <td>704.381443</td>\n",
       "      <td>28.357117</td>\n",
       "      <td>1538.0</td>\n",
       "      <td>110657.384760</td>\n",
       "    </tr>\n",
       "    <tr>\n",
       "      <th>2</th>\n",
       "      <td>1703597180-2</td>\n",
       "      <td>https://www.tutti.ch/de/q/autos/Ak8CkY2Fyc5TAk...</td>\n",
       "      <td>Aargau, 5054, 08.09.2018, auf autoscout24.ch</td>\n",
       "      <td>VW Golf 1800 S-Plus (GL)</td>\n",
       "      <td>5990.0</td>\n",
       "      <td>Aargau</td>\n",
       "      <td>5054</td>\n",
       "      <td>Kirchleerau</td>\n",
       "      <td>4275</td>\n",
       "      <td>870</td>\n",
       "      <td>199.541284</td>\n",
       "      <td>10.689655</td>\n",
       "      <td>259.0</td>\n",
       "      <td>60049.000000</td>\n",
       "    </tr>\n",
       "    <tr>\n",
       "      <th>3</th>\n",
       "      <td>1703597192-34</td>\n",
       "      <td>https://www.tutti.ch/de/q/autos/Ak8CkY2Fyc5TAk...</td>\n",
       "      <td>Aargau, 5054, 16.03.2020, auf autoscout24.ch</td>\n",
       "      <td>MITSUBISHI Colt 1400 GLX A</td>\n",
       "      <td>5990.0</td>\n",
       "      <td>Aargau</td>\n",
       "      <td>5054</td>\n",
       "      <td>Kirchleerau</td>\n",
       "      <td>4275</td>\n",
       "      <td>870</td>\n",
       "      <td>199.541284</td>\n",
       "      <td>10.689655</td>\n",
       "      <td>259.0</td>\n",
       "      <td>60049.000000</td>\n",
       "    </tr>\n",
       "    <tr>\n",
       "      <th>4</th>\n",
       "      <td>1703597214-95</td>\n",
       "      <td>https://www.tutti.ch/de/q/autos/Ak8CkY2Fyc5TAk...</td>\n",
       "      <td>Aargau, 5054, 02.03.2022, auf Autoscout24.ch</td>\n",
       "      <td>ROVER 827 Vitesse A</td>\n",
       "      <td>6990.0</td>\n",
       "      <td>Aargau</td>\n",
       "      <td>5054</td>\n",
       "      <td>Kirchleerau</td>\n",
       "      <td>4275</td>\n",
       "      <td>870</td>\n",
       "      <td>199.541284</td>\n",
       "      <td>10.689655</td>\n",
       "      <td>259.0</td>\n",
       "      <td>60049.000000</td>\n",
       "    </tr>\n",
       "  </tbody>\n",
       "</table>\n",
       "</div>"
      ],
      "text/plain": [
       "  web-scraper-order                              web-scraper-start-url  \\\n",
       "0      1703597180-1  https://www.tutti.ch/de/q/autos/Ak8CkY2Fyc5TAk...   \n",
       "1      1703597180-1  https://www.tutti.ch/de/q/autos/Ak8CkY2Fyc5TAk...   \n",
       "2      1703597180-2  https://www.tutti.ch/de/q/autos/Ak8CkY2Fyc5TAk...   \n",
       "3     1703597192-34  https://www.tutti.ch/de/q/autos/Ak8CkY2Fyc5TAk...   \n",
       "4     1703597214-95  https://www.tutti.ch/de/q/autos/Ak8CkY2Fyc5TAk...   \n",
       "\n",
       "                                  location_date                  brand_type  \\\n",
       "0   Waadt, 1026, 03.10.2018, auf autoscout24.ch    LANCIA Dedra 2.0 i.e. LX   \n",
       "1   Waadt, 1026, 03.10.2018, auf autoscout24.ch    LANCIA Dedra 2.0 i.e. LX   \n",
       "2  Aargau, 5054, 08.09.2018, auf autoscout24.ch    VW Golf 1800 S-Plus (GL)   \n",
       "3  Aargau, 5054, 16.03.2020, auf autoscout24.ch  MITSUBISHI Colt 1400 GLX A   \n",
       "4  Aargau, 5054, 02.03.2022, auf Autoscout24.ch         ROVER 827 Vitesse A   \n",
       "\n",
       "    price  canton   plz          ort  bfs_number   pop    pop_dens    frg_pct  \\\n",
       "0  3900.0   Waadt  1026       Denges        5632  1608  968.674699  29.228856   \n",
       "1  3900.0   Waadt  1026    Echandens        5633  2733  704.381443  28.357117   \n",
       "2  5990.0  Aargau  5054  Kirchleerau        4275   870  199.541284  10.689655   \n",
       "3  5990.0  Aargau  5054  Kirchleerau        4275   870  199.541284  10.689655   \n",
       "4  6990.0  Aargau  5054  Kirchleerau        4275   870  199.541284  10.689655   \n",
       "\n",
       "      emp  mean_taxable_income  \n",
       "0   895.0         84307.739938  \n",
       "1  1538.0        110657.384760  \n",
       "2   259.0         60049.000000  \n",
       "3   259.0         60049.000000  \n",
       "4   259.0         60049.000000  "
      ]
     },
     "execution_count": 119,
     "metadata": {},
     "output_type": "execute_result"
    }
   ],
   "source": [
    "# Merge needs a key which must be identical in both data sets (here the key is 'bfs_number')\n",
    "df3 = df2.merge(df_municip[['bfs_number', \n",
    "                            'pop', \n",
    "                            'pop_dens', \n",
    "                            'frg_pct', \n",
    "                            'emp',\n",
    "                            'mean_taxable_income']], \n",
    "                on=\"bfs_number\")\n",
    "df3.head(5)"
   ]
  },
  {
   "cell_type": "markdown",
   "id": "e2a073fb",
   "metadata": {},
   "source": [
    "### Calculate some mean Prices for Car Types"
   ]
  },
  {
   "cell_type": "code",
   "execution_count": 120,
   "id": "b0981ec8",
   "metadata": {},
   "outputs": [
    {
     "data": {
      "text/html": [
       "<div>\n",
       "<style scoped>\n",
       "    .dataframe tbody tr th:only-of-type {\n",
       "        vertical-align: middle;\n",
       "    }\n",
       "\n",
       "    .dataframe tbody tr th {\n",
       "        vertical-align: top;\n",
       "    }\n",
       "\n",
       "    .dataframe thead th {\n",
       "        text-align: right;\n",
       "    }\n",
       "</style>\n",
       "<table border=\"1\" class=\"dataframe\">\n",
       "  <thead>\n",
       "    <tr style=\"text-align: right;\">\n",
       "      <th></th>\n",
       "      <th>price</th>\n",
       "    </tr>\n",
       "    <tr>\n",
       "      <th>brand_type</th>\n",
       "      <th></th>\n",
       "    </tr>\n",
       "  </thead>\n",
       "  <tbody>\n",
       "    <tr>\n",
       "      <th>'53 Mercury, '60 Pontiac, '79 Chevy in blocco o singole</th>\n",
       "      <td>50000.0</td>\n",
       "    </tr>\n",
       "    <tr>\n",
       "      <th>'72 Ford Ranchero 500 \"survivor\"</th>\n",
       "      <td>28500.0</td>\n",
       "    </tr>\n",
       "    <tr>\n",
       "      <th>'91 Pontiac TransAm T.-Top option WS6 expertisée du jour</th>\n",
       "      <td>7900.0</td>\n",
       "    </tr>\n",
       "    <tr>\n",
       "      <th>** Ford Fiesta 1.3i / 60'000 km !!**</th>\n",
       "      <td>6900.0</td>\n",
       "    </tr>\n",
       "    <tr>\n",
       "      <th>** Mercedes-Benz 250 ** Veteran</th>\n",
       "      <td>19900.0</td>\n",
       "    </tr>\n",
       "    <tr>\n",
       "      <th>...</th>\n",
       "      <td>...</td>\n",
       "    </tr>\n",
       "    <tr>\n",
       "      <th>zu verkaufen</th>\n",
       "      <td>37250.0</td>\n",
       "    </tr>\n",
       "    <tr>\n",
       "      <th>zu verkaufen Oldtimer Triumph Spitfire IV Gabriolet</th>\n",
       "      <td>19800.0</td>\n",
       "    </tr>\n",
       "    <tr>\n",
       "      <th>zuverkaufen top zustand  2700 fr km 86000</th>\n",
       "      <td>2200.0</td>\n",
       "    </tr>\n",
       "    <tr>\n",
       "      <th>| Ab MFK | Audi 80 2.3E quattro | ZR &amp; WP &amp; Service Neu</th>\n",
       "      <td>19500.0</td>\n",
       "    </tr>\n",
       "    <tr>\n",
       "      <th>|Ab MFK | Audi 100 2.8 quattro | ZR &amp; WP Neu | Service Neu</th>\n",
       "      <td>14900.0</td>\n",
       "    </tr>\n",
       "  </tbody>\n",
       "</table>\n",
       "<p>2531 rows × 1 columns</p>\n",
       "</div>"
      ],
      "text/plain": [
       "                                                      price\n",
       "brand_type                                                 \n",
       "'53 Mercury, '60 Pontiac, '79 Chevy in blocco o...  50000.0\n",
       "'72 Ford Ranchero 500 \"survivor\"                    28500.0\n",
       "'91 Pontiac TransAm T.-Top option WS6 expertisé...   7900.0\n",
       "** Ford Fiesta 1.3i / 60'000 km !!**                 6900.0\n",
       "** Mercedes-Benz 250 ** Veteran                     19900.0\n",
       "...                                                     ...\n",
       "zu verkaufen                                        37250.0\n",
       "zu verkaufen Oldtimer Triumph Spitfire IV Gabri...  19800.0\n",
       "zuverkaufen top zustand  2700 fr km 86000            2200.0\n",
       "| Ab MFK | Audi 80 2.3E quattro | ZR & WP & Ser...  19500.0\n",
       "|Ab MFK | Audi 100 2.8 quattro | ZR & WP Neu | ...  14900.0\n",
       "\n",
       "[2531 rows x 1 columns]"
      ]
     },
     "execution_count": 120,
     "metadata": {},
     "output_type": "execute_result"
    }
   ],
   "source": [
    "# Using pivot_table to reshape the data and calculate means \n",
    "pd.pivot_table(df3[['brand_type', 'price']],\n",
    "               index=['brand_type'],\n",
    "               values=['price', 'brand_type'],\n",
    "               aggfunc=(np.mean))"
   ]
  },
  {
   "cell_type": "markdown",
   "id": "66164662",
   "metadata": {},
   "source": [
    "## Write data to database"
   ]
  },
  {
   "cell_type": "code",
   "execution_count": 121,
   "id": "cfd07b2d-1b23-4c93-b3f9-ccc3dcc73c31",
   "metadata": {},
   "outputs": [
    {
     "data": {
      "text/plain": [
       "820"
      ]
     },
     "execution_count": 121,
     "metadata": {},
     "output_type": "execute_result"
    }
   ],
   "source": [
    "engine = create_engine('postgresql://app_user:app_password@db:5432/app')\n",
    "df3.to_sql('car_table', engine, if_exists='replace')"
   ]
  },
  {
   "cell_type": "markdown",
   "id": "2b80dc61",
   "metadata": {},
   "source": [
    "## SQL querys"
   ]
  },
  {
   "cell_type": "code",
   "execution_count": 122,
   "id": "077a187d-05be-4c30-a367-a4e1a19d4466",
   "metadata": {},
   "outputs": [
    {
     "data": {
      "text/html": [
       "<div>\n",
       "<style scoped>\n",
       "    .dataframe tbody tr th:only-of-type {\n",
       "        vertical-align: middle;\n",
       "    }\n",
       "\n",
       "    .dataframe tbody tr th {\n",
       "        vertical-align: top;\n",
       "    }\n",
       "\n",
       "    .dataframe thead th {\n",
       "        text-align: right;\n",
       "    }\n",
       "</style>\n",
       "<table border=\"1\" class=\"dataframe\">\n",
       "  <thead>\n",
       "    <tr style=\"text-align: right;\">\n",
       "      <th></th>\n",
       "      <th>brand_type</th>\n",
       "      <th>price</th>\n",
       "      <th>canton</th>\n",
       "      <th>plz</th>\n",
       "      <th>ort</th>\n",
       "      <th>bfs_number</th>\n",
       "      <th>pop</th>\n",
       "      <th>pop_dens</th>\n",
       "      <th>frg_pct</th>\n",
       "      <th>emp</th>\n",
       "      <th>mean_taxable_income</th>\n",
       "    </tr>\n",
       "  </thead>\n",
       "  <tbody>\n",
       "    <tr>\n",
       "      <th>0</th>\n",
       "      <td>LANCIA Dedra 2.0 i.e. LX</td>\n",
       "      <td>3900.0</td>\n",
       "      <td>Waadt</td>\n",
       "      <td>1026</td>\n",
       "      <td>Denges</td>\n",
       "      <td>5632</td>\n",
       "      <td>1608</td>\n",
       "      <td>968.674699</td>\n",
       "      <td>29.228856</td>\n",
       "      <td>895.0</td>\n",
       "      <td>84307.739938</td>\n",
       "    </tr>\n",
       "    <tr>\n",
       "      <th>1</th>\n",
       "      <td>LANCIA Dedra 2.0 i.e. LX</td>\n",
       "      <td>3900.0</td>\n",
       "      <td>Waadt</td>\n",
       "      <td>1026</td>\n",
       "      <td>Echandens</td>\n",
       "      <td>5633</td>\n",
       "      <td>2733</td>\n",
       "      <td>704.381443</td>\n",
       "      <td>28.357117</td>\n",
       "      <td>1538.0</td>\n",
       "      <td>110657.384760</td>\n",
       "    </tr>\n",
       "    <tr>\n",
       "      <th>2</th>\n",
       "      <td>VW Golf 1800 S-Plus (GL)</td>\n",
       "      <td>5990.0</td>\n",
       "      <td>Aargau</td>\n",
       "      <td>5054</td>\n",
       "      <td>Kirchleerau</td>\n",
       "      <td>4275</td>\n",
       "      <td>870</td>\n",
       "      <td>199.541284</td>\n",
       "      <td>10.689655</td>\n",
       "      <td>259.0</td>\n",
       "      <td>60049.000000</td>\n",
       "    </tr>\n",
       "    <tr>\n",
       "      <th>3</th>\n",
       "      <td>MITSUBISHI Colt 1400 GLX A</td>\n",
       "      <td>5990.0</td>\n",
       "      <td>Aargau</td>\n",
       "      <td>5054</td>\n",
       "      <td>Kirchleerau</td>\n",
       "      <td>4275</td>\n",
       "      <td>870</td>\n",
       "      <td>199.541284</td>\n",
       "      <td>10.689655</td>\n",
       "      <td>259.0</td>\n",
       "      <td>60049.000000</td>\n",
       "    </tr>\n",
       "    <tr>\n",
       "      <th>4</th>\n",
       "      <td>ROVER 827 Vitesse A</td>\n",
       "      <td>6990.0</td>\n",
       "      <td>Aargau</td>\n",
       "      <td>5054</td>\n",
       "      <td>Kirchleerau</td>\n",
       "      <td>4275</td>\n",
       "      <td>870</td>\n",
       "      <td>199.541284</td>\n",
       "      <td>10.689655</td>\n",
       "      <td>259.0</td>\n",
       "      <td>60049.000000</td>\n",
       "    </tr>\n",
       "  </tbody>\n",
       "</table>\n",
       "</div>"
      ],
      "text/plain": [
       "                   brand_type   price  canton   plz          ort  bfs_number  \\\n",
       "0    LANCIA Dedra 2.0 i.e. LX  3900.0   Waadt  1026       Denges        5632   \n",
       "1    LANCIA Dedra 2.0 i.e. LX  3900.0   Waadt  1026    Echandens        5633   \n",
       "2    VW Golf 1800 S-Plus (GL)  5990.0  Aargau  5054  Kirchleerau        4275   \n",
       "3  MITSUBISHI Colt 1400 GLX A  5990.0  Aargau  5054  Kirchleerau        4275   \n",
       "4         ROVER 827 Vitesse A  6990.0  Aargau  5054  Kirchleerau        4275   \n",
       "\n",
       "    pop    pop_dens    frg_pct     emp  mean_taxable_income  \n",
       "0  1608  968.674699  29.228856   895.0         84307.739938  \n",
       "1  2733  704.381443  28.357117  1538.0        110657.384760  \n",
       "2   870  199.541284  10.689655   259.0         60049.000000  \n",
       "3   870  199.541284  10.689655   259.0         60049.000000  \n",
       "4   870  199.541284  10.689655   259.0         60049.000000  "
      ]
     },
     "execution_count": 122,
     "metadata": {},
     "output_type": "execute_result"
    }
   ],
   "source": [
    "df_sub = pd.read_sql_query('''SELECT\n",
    "                            brand_type,\n",
    "                            price,\n",
    "                            canton,\n",
    "                            plz,\n",
    "                            ort,\n",
    "                            bfs_number,\n",
    "                            pop,\n",
    "                            pop_dens,\n",
    "                            frg_pct,\n",
    "                            emp,\n",
    "                            mean_taxable_income\n",
    "                            FROM car_table''', \n",
    "                            con=engine)\n",
    "df_sub.head()"
   ]
  },
  {
   "cell_type": "markdown",
   "id": "de3b050e",
   "metadata": {},
   "source": [
    "### Count amount of entries per canton with a salary over 75'000"
   ]
  },
  {
   "cell_type": "code",
   "execution_count": 123,
   "id": "66a80eb1",
   "metadata": {},
   "outputs": [
    {
     "data": {
      "text/html": [
       "<div>\n",
       "<style scoped>\n",
       "    .dataframe tbody tr th:only-of-type {\n",
       "        vertical-align: middle;\n",
       "    }\n",
       "\n",
       "    .dataframe tbody tr th {\n",
       "        vertical-align: top;\n",
       "    }\n",
       "\n",
       "    .dataframe thead th {\n",
       "        text-align: right;\n",
       "    }\n",
       "</style>\n",
       "<table border=\"1\" class=\"dataframe\">\n",
       "  <thead>\n",
       "    <tr style=\"text-align: right;\">\n",
       "      <th></th>\n",
       "      <th>canton</th>\n",
       "      <th>gesamteintraege</th>\n",
       "    </tr>\n",
       "  </thead>\n",
       "  <tbody>\n",
       "    <tr>\n",
       "      <th>0</th>\n",
       "      <td>Zürich</td>\n",
       "      <td>427</td>\n",
       "    </tr>\n",
       "    <tr>\n",
       "      <th>1</th>\n",
       "      <td>Zug</td>\n",
       "      <td>206</td>\n",
       "    </tr>\n",
       "    <tr>\n",
       "      <th>2</th>\n",
       "      <td>Tessin</td>\n",
       "      <td>182</td>\n",
       "    </tr>\n",
       "    <tr>\n",
       "      <th>3</th>\n",
       "      <td>Genf</td>\n",
       "      <td>117</td>\n",
       "    </tr>\n",
       "    <tr>\n",
       "      <th>4</th>\n",
       "      <td>Basel-Landschaft</td>\n",
       "      <td>82</td>\n",
       "    </tr>\n",
       "  </tbody>\n",
       "</table>\n",
       "</div>"
      ],
      "text/plain": [
       "             canton  gesamteintraege\n",
       "0            Zürich              427\n",
       "1               Zug              206\n",
       "2            Tessin              182\n",
       "3              Genf              117\n",
       "4  Basel-Landschaft               82"
      ]
     },
     "execution_count": 123,
     "metadata": {},
     "output_type": "execute_result"
    }
   ],
   "source": [
    "df_count = pd.read_sql_query('''SELECT canton, COUNT(*) AS GesamtEintraege\n",
    "                            FROM car_table\n",
    "                            WHERE mean_taxable_income > 75000\n",
    "                            GROUP BY canton\n",
    "                            ORDER BY GesamtEintraege DESC;''',\n",
    "                            con=engine)\n",
    "df_count.head()"
   ]
  },
  {
   "cell_type": "code",
   "execution_count": 124,
   "id": "b7454fca",
   "metadata": {},
   "outputs": [
    {
     "data": {
      "text/html": [
       "<div>\n",
       "<style scoped>\n",
       "    .dataframe tbody tr th:only-of-type {\n",
       "        vertical-align: middle;\n",
       "    }\n",
       "\n",
       "    .dataframe tbody tr th {\n",
       "        vertical-align: top;\n",
       "    }\n",
       "\n",
       "    .dataframe thead th {\n",
       "        text-align: right;\n",
       "    }\n",
       "</style>\n",
       "<table border=\"1\" class=\"dataframe\">\n",
       "  <thead>\n",
       "    <tr style=\"text-align: right;\">\n",
       "      <th></th>\n",
       "      <th>brand_type</th>\n",
       "      <th>average_price</th>\n",
       "    </tr>\n",
       "  </thead>\n",
       "  <tbody>\n",
       "    <tr>\n",
       "      <th>0</th>\n",
       "      <td>Ford USA Mustang V8 351 Cabriolet</td>\n",
       "      <td>17500.00</td>\n",
       "    </tr>\n",
       "    <tr>\n",
       "      <th>1</th>\n",
       "      <td>Jaguar XJ 3.4 Jg. 1976 grün - Oldtimer</td>\n",
       "      <td>8500.00</td>\n",
       "    </tr>\n",
       "    <tr>\n",
       "      <th>2</th>\n",
       "      <td>TOYOTA Celica 2000 GTi</td>\n",
       "      <td>7566.67</td>\n",
       "    </tr>\n",
       "    <tr>\n",
       "      <th>3</th>\n",
       "      <td>1988 BMW e30 320i</td>\n",
       "      <td>13000.00</td>\n",
       "    </tr>\n",
       "    <tr>\n",
       "      <th>4</th>\n",
       "      <td>Buick Skylark Veteran</td>\n",
       "      <td>5500.00</td>\n",
       "    </tr>\n",
       "  </tbody>\n",
       "</table>\n",
       "</div>"
      ],
      "text/plain": [
       "                               brand_type  average_price\n",
       "0       Ford USA Mustang V8 351 Cabriolet       17500.00\n",
       "1  Jaguar XJ 3.4 Jg. 1976 grün - Oldtimer        8500.00\n",
       "2                  TOYOTA Celica 2000 GTi        7566.67\n",
       "3                       1988 BMW e30 320i       13000.00\n",
       "4                   Buick Skylark Veteran        5500.00"
      ]
     },
     "execution_count": 124,
     "metadata": {},
     "output_type": "execute_result"
    }
   ],
   "source": [
    "df_avg_price = pd.read_sql_query('''SELECT brand_type, ROUND(CAST(AVG(price) AS numeric), 2) AS average_price\n",
    "                                FROM car_table\n",
    "                                GROUP BY brand_type;\n",
    "                                ;''',\n",
    "                                con=engine)\n",
    "\n",
    "df_avg_price.head()\n"
   ]
  },
  {
   "cell_type": "markdown",
   "id": "31bd6cd2",
   "metadata": {},
   "source": [
    "### Reshapping data "
   ]
  },
  {
   "cell_type": "code",
   "execution_count": 125,
   "id": "942d2e01",
   "metadata": {},
   "outputs": [
    {
     "name": "stdout",
     "output_type": "stream",
     "text": [
      "Original shape\n",
      "           ort                  brand_type   price  canton\n",
      "0       Denges    LANCIA Dedra 2.0 i.e. LX  3900.0   Waadt\n",
      "1    Echandens    LANCIA Dedra 2.0 i.e. LX  3900.0   Waadt\n",
      "2  Kirchleerau    VW Golf 1800 S-Plus (GL)  5990.0  Aargau\n",
      "3  Kirchleerau  MITSUBISHI Colt 1400 GLX A  5990.0  Aargau\n",
      "4  Kirchleerau         ROVER 827 Vitesse A  6990.0  Aargau \n",
      "\n",
      "Stacked\n",
      "0  ort                               Denges\n",
      "   brand_type      LANCIA Dedra 2.0 i.e. LX\n",
      "   price                             3900.0\n",
      "   canton                             Waadt\n",
      "1  ort                            Echandens\n",
      "   brand_type      LANCIA Dedra 2.0 i.e. LX\n",
      "   price                             3900.0\n",
      "   canton                             Waadt\n",
      "2  ort                          Kirchleerau\n",
      "   brand_type      VW Golf 1800 S-Plus (GL)\n",
      "   price                             5990.0\n",
      "   canton                            Aargau\n",
      "3  ort                          Kirchleerau\n",
      "   brand_type    MITSUBISHI Colt 1400 GLX A\n",
      "   price                             5990.0\n",
      "   canton                            Aargau\n",
      "4  ort                          Kirchleerau\n",
      "   brand_type           ROVER 827 Vitesse A\n",
      "   price                             6990.0\n",
      "   canton                            Aargau\n",
      "dtype: object \n",
      "\n",
      "Unstacked (= back to original shape)\n",
      "           ort                  brand_type   price  canton\n",
      "0       Denges    LANCIA Dedra 2.0 i.e. LX  3900.0   Waadt\n",
      "1    Echandens    LANCIA Dedra 2.0 i.e. LX  3900.0   Waadt\n",
      "2  Kirchleerau    VW Golf 1800 S-Plus (GL)  5990.0  Aargau\n",
      "3  Kirchleerau  MITSUBISHI Colt 1400 GLX A  5990.0  Aargau\n",
      "4  Kirchleerau         ROVER 827 Vitesse A  6990.0  Aargau\n"
     ]
    }
   ],
   "source": [
    "df_shaped = df_sub[['ort', 'brand_type', 'price', 'canton']][:5]\n",
    "print('Original shape')\n",
    "print(df_shaped, '\\n')\n",
    "\n",
    "df_shaped_stacked = df_shaped.stack()\n",
    "print('Stacked')\n",
    "print(df_shaped_stacked, '\\n')\n",
    "\n",
    "# Using unstack\n",
    "print('Unstacked (= back to original shape)')\n",
    "print(df_shaped_stacked.unstack())"
   ]
  },
  {
   "cell_type": "code",
   "execution_count": 126,
   "id": "e3246d65",
   "metadata": {},
   "outputs": [
    {
     "name": "stdout",
     "output_type": "stream",
     "text": [
      "Original shape\n",
      "                   brand_type   price  canton\n",
      "0    LANCIA Dedra 2.0 i.e. LX  3900.0   Waadt\n",
      "1    LANCIA Dedra 2.0 i.e. LX  3900.0   Waadt\n",
      "2    VW Golf 1800 S-Plus (GL)  5990.0  Aargau\n",
      "3  MITSUBISHI Colt 1400 GLX A  5990.0  Aargau\n",
      "4         ROVER 827 Vitesse A  6990.0  Aargau \n",
      "\n",
      "Reshaped using .melt()\n",
      "                                             brand_type variable     value\n",
      "0                              LANCIA Dedra 2.0 i.e. LX    price    3900.0\n",
      "1                              VW Golf 1800 S-Plus (GL)    price    5990.0\n",
      "2                         LANCIA Dedra 2.0 HF Integrale    price    6950.0\n",
      "3                               LANCIA BETA 2000 Spider    price   19990.0\n",
      "4                                    VW Polo 1300 C (X)    price   12900.0\n",
      "...                                                 ...      ...       ...\n",
      "5593                2CV Super mit Wohnwagen und Vorzelt   canton    Zürich\n",
      "5594  Chevrolet Corvette Stingray Cabriolet Oldtimer...   canton   Thurgau\n",
      "5595          VW Golf Cabriolet 1800 GL Karmann Edition   canton    Zürich\n",
      "5596                     Panhard CD 1000 GT Hampe Paris   canton  Obwalden\n",
      "5597                        Porsche 356 A Sunroof Coupe   canton  Obwalden\n",
      "\n",
      "[5598 rows x 3 columns]\n"
     ]
    }
   ],
   "source": [
    "df_sub_melt = df_sub[['brand_type', 'price', 'canton']][:5]\n",
    "print('Original shape')\n",
    "print(df_sub_melt, '\\n')\n",
    "\n",
    "print('Reshaped using .melt()')\n",
    "print(pd.melt(df, id_vars=['brand_type'], value_vars=['price', 'canton']))"
   ]
  },
  {
   "cell_type": "markdown",
   "id": "d6850020",
   "metadata": {},
   "source": [
    "### Close DB connection"
   ]
  },
  {
   "cell_type": "code",
   "execution_count": 127,
   "id": "960a808f",
   "metadata": {},
   "outputs": [],
   "source": [
    "conn.close()"
   ]
  },
  {
   "attachments": {},
   "cell_type": "markdown",
   "id": "ff525b1e",
   "metadata": {},
   "source": [
    "### Jupyter notebook --footer info-- (please always provide this at the end of each notebook)"
   ]
  },
  {
   "cell_type": "code",
   "execution_count": 128,
   "id": "e6cae5b2",
   "metadata": {},
   "outputs": [
    {
     "name": "stdout",
     "output_type": "stream",
     "text": [
      "-----------------------------------\n",
      "POSIX\n",
      "Linux | 6.2.0-1018-azure\n",
      "Datetime: 2023-12-31 10:22:09\n",
      "Python Version: 3.10.12\n",
      "-----------------------------------\n"
     ]
    }
   ],
   "source": [
    "import os\n",
    "import platform\n",
    "import socket\n",
    "from platform import python_version\n",
    "from datetime import datetime\n",
    "\n",
    "print('-----------------------------------')\n",
    "print(os.name.upper())\n",
    "print(platform.system(), '|', platform.release())\n",
    "print('Datetime:', datetime.now().strftime(\"%Y-%m-%d %H:%M:%S\"))\n",
    "print('Python Version:', python_version())\n",
    "print('-----------------------------------')"
   ]
  }
 ],
 "metadata": {
  "kernelspec": {
   "display_name": "Python 3",
   "language": "python",
   "name": "python3"
  },
  "language_info": {
   "codemirror_mode": {
    "name": "ipython",
    "version": 3
   },
   "file_extension": ".py",
   "mimetype": "text/x-python",
   "name": "python",
   "nbconvert_exporter": "python",
   "pygments_lexer": "ipython3",
   "version": "3.10.12"
  }
 },
 "nbformat": 4,
 "nbformat_minor": 5
}
