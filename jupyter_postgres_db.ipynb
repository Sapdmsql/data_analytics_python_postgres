{
 "cells": [
  {
   "cell_type": "markdown",
   "id": "61847f62",
   "metadata": {},
   "source": [
    "# Jupyter with PostgreSQL"
   ]
  },
  {
   "cell_type": "markdown",
   "id": "9b8df3dd",
   "metadata": {},
   "source": [
    "## Libararies and Settings"
   ]
  },
  {
   "cell_type": "code",
   "execution_count": 5,
   "id": "b027d889",
   "metadata": {},
   "outputs": [
    {
     "name": "stdout",
     "output_type": "stream",
     "text": [
      "/\n"
     ]
    }
   ],
   "source": [
    "# Libraries\n",
    "import os\n",
    "import re\n",
    "import psycopg2\n",
    "import pandas as pd\n",
    "from sqlalchemy import create_engine\n",
    "import matplotlib.pyplot as plt\n",
    "\n",
    "# Settings\n",
    "import warnings\n",
    "warnings.filterwarnings(\"ignore\")\n",
    "\n",
    "# Current working directory\n",
    "print(os.getcwd())"
   ]
  },
  {
   "cell_type": "markdown",
   "id": "ddc2ee8d",
   "metadata": {},
   "source": [
    "## Create database connection"
   ]
  },
  {
   "cell_type": "code",
   "execution_count": 6,
   "id": "54a73766-07de-4d4a-941c-fdc2616c92ff",
   "metadata": {},
   "outputs": [],
   "source": [
    "conn = psycopg2.connect(\"host=localhost dbname=app user=app_user password=app_password\")"
   ]
  },
  {
   "cell_type": "markdown",
   "id": "53f4b234",
   "metadata": {},
   "source": [
    "## Read data"
   ]
  },
  {
   "cell_type": "code",
   "execution_count": 7,
   "id": "ef32ffa2-1859-48af-a78c-0f1b5748fc98",
   "metadata": {},
   "outputs": [
    {
     "data": {
      "text/html": [
       "<div>\n",
       "<style scoped>\n",
       "    .dataframe tbody tr th:only-of-type {\n",
       "        vertical-align: middle;\n",
       "    }\n",
       "\n",
       "    .dataframe tbody tr th {\n",
       "        vertical-align: top;\n",
       "    }\n",
       "\n",
       "    .dataframe thead th {\n",
       "        text-align: right;\n",
       "    }\n",
       "</style>\n",
       "<table border=\"1\" class=\"dataframe\">\n",
       "  <thead>\n",
       "    <tr style=\"text-align: right;\">\n",
       "      <th></th>\n",
       "      <th>web-scraper-order</th>\n",
       "      <th>web-scraper-start-url</th>\n",
       "      <th>location_date</th>\n",
       "      <th>brand_type</th>\n",
       "      <th>price</th>\n",
       "    </tr>\n",
       "  </thead>\n",
       "  <tbody>\n",
       "    <tr>\n",
       "      <th>0</th>\n",
       "      <td>1703597180-1</td>\n",
       "      <td>https://www.tutti.ch/de/q/autos/Ak8CkY2Fyc5TAk...</td>\n",
       "      <td>Waadt, 1026, 03.10.2018, auf autoscout24.ch</td>\n",
       "      <td>LANCIA Dedra 2.0 i.e. LX</td>\n",
       "      <td>3'900.-</td>\n",
       "    </tr>\n",
       "    <tr>\n",
       "      <th>1</th>\n",
       "      <td>1703597180-2</td>\n",
       "      <td>https://www.tutti.ch/de/q/autos/Ak8CkY2Fyc5TAk...</td>\n",
       "      <td>Aargau, 5054, 08.09.2018, auf autoscout24.ch</td>\n",
       "      <td>VW Golf 1800 S-Plus (GL)</td>\n",
       "      <td>5'990.-</td>\n",
       "    </tr>\n",
       "    <tr>\n",
       "      <th>2</th>\n",
       "      <td>1703597180-3</td>\n",
       "      <td>https://www.tutti.ch/de/q/autos/Ak8CkY2Fyc5TAk...</td>\n",
       "      <td>Thurgau, 8370, 26.06.2018, auf autoscout24.ch</td>\n",
       "      <td>LANCIA Dedra 2.0 HF Integrale</td>\n",
       "      <td>6'950.-</td>\n",
       "    </tr>\n",
       "    <tr>\n",
       "      <th>3</th>\n",
       "      <td>1703597180-4</td>\n",
       "      <td>https://www.tutti.ch/de/q/autos/Ak8CkY2Fyc5TAk...</td>\n",
       "      <td>Bern, 3604, 04.06.2018, auf autoscout24.ch</td>\n",
       "      <td>LANCIA BETA 2000 Spider</td>\n",
       "      <td>19'990.-</td>\n",
       "    </tr>\n",
       "    <tr>\n",
       "      <th>4</th>\n",
       "      <td>1703597180-5</td>\n",
       "      <td>https://www.tutti.ch/de/q/autos/Ak8CkY2Fyc5TAk...</td>\n",
       "      <td>Bern, 4943, 04.04.2018, auf autoscout24.ch</td>\n",
       "      <td>VW Polo 1300 C (X)</td>\n",
       "      <td>12'900.-</td>\n",
       "    </tr>\n",
       "  </tbody>\n",
       "</table>\n",
       "</div>"
      ],
      "text/plain": [
       "  web-scraper-order                              web-scraper-start-url  \\\n",
       "0      1703597180-1  https://www.tutti.ch/de/q/autos/Ak8CkY2Fyc5TAk...   \n",
       "1      1703597180-2  https://www.tutti.ch/de/q/autos/Ak8CkY2Fyc5TAk...   \n",
       "2      1703597180-3  https://www.tutti.ch/de/q/autos/Ak8CkY2Fyc5TAk...   \n",
       "3      1703597180-4  https://www.tutti.ch/de/q/autos/Ak8CkY2Fyc5TAk...   \n",
       "4      1703597180-5  https://www.tutti.ch/de/q/autos/Ak8CkY2Fyc5TAk...   \n",
       "\n",
       "                                   location_date  \\\n",
       "0    Waadt, 1026, 03.10.2018, auf autoscout24.ch   \n",
       "1   Aargau, 5054, 08.09.2018, auf autoscout24.ch   \n",
       "2  Thurgau, 8370, 26.06.2018, auf autoscout24.ch   \n",
       "3     Bern, 3604, 04.06.2018, auf autoscout24.ch   \n",
       "4     Bern, 4943, 04.04.2018, auf autoscout24.ch   \n",
       "\n",
       "                      brand_type     price  \n",
       "0       LANCIA Dedra 2.0 i.e. LX   3'900.-  \n",
       "1       VW Golf 1800 S-Plus (GL)   5'990.-  \n",
       "2  LANCIA Dedra 2.0 HF Integrale   6'950.-  \n",
       "3        LANCIA BETA 2000 Spider  19'990.-  \n",
       "4             VW Polo 1300 C (X)  12'900.-  "
      ]
     },
     "execution_count": 7,
     "metadata": {},
     "output_type": "execute_result"
    }
   ],
   "source": [
    "df = pd.read_csv('/workspace/Tutti.csv', sep=',')\n",
    "df.head(5)"
   ]
  },
  {
   "cell_type": "markdown",
   "id": "3685ed50",
   "metadata": {},
   "source": [
    "## Count number of rows and columns in the data frame"
   ]
  },
  {
   "cell_type": "code",
   "execution_count": 8,
   "id": "366048d0",
   "metadata": {},
   "outputs": [
    {
     "name": "stdout",
     "output_type": "stream",
     "text": [
      "Dimension: (2804, 5)\n",
      "Number of rows: 2804\n",
      "Number of columns: 5\n"
     ]
    }
   ],
   "source": [
    "# Dimension (rows, columns)\n",
    "print('Dimension:', df.shape)\n",
    "\n",
    "# Number of rows\n",
    "print('Number of rows:', df.shape[0])\n",
    "\n",
    "# Number of columns\n",
    "print('Number of columns:', df.shape[1])"
   ]
  },
  {
   "cell_type": "markdown",
   "id": "610bae31",
   "metadata": {},
   "source": [
    "## Extract and save relevant information from raw data using regular expressions (regex)"
   ]
  },
  {
   "cell_type": "markdown",
   "id": "e3688c3f",
   "metadata": {},
   "source": [
    "### Extract Canton"
   ]
  },
  {
   "cell_type": "code",
   "execution_count": 9,
   "id": "0a6a0c4b",
   "metadata": {},
   "outputs": [
    {
     "name": "stdout",
     "output_type": "stream",
     "text": [
      "0      Waadt, 1026, 03.10.2018, auf autoscout24.ch\n",
      "1     Aargau, 5054, 08.09.2018, auf autoscout24.ch\n",
      "2    Thurgau, 8370, 26.06.2018, auf autoscout24.ch\n",
      "3       Bern, 3604, 04.06.2018, auf autoscout24.ch\n",
      "4       Bern, 4943, 04.04.2018, auf autoscout24.ch\n",
      "Name: location_date, dtype: object \n",
      "\n",
      "0      Waadt\n",
      "1     Aargau\n",
      "2    Thurgau\n",
      "3       Bern\n",
      "4       Bern\n",
      "Name: canton, dtype: object\n"
     ]
    }
   ],
   "source": [
    "# Extrahiere das erste Wort vor dem Komma in den Strings der 'location_date' Spalte\n",
    "cantons = []\n",
    "for i in df['location_date']:\n",
    "    split_string = i.split(',')[0].strip()  # Teilt den String am Komma und nimmt den ersten Teil\n",
    "    cantons.append(split_string)\n",
    "\n",
    "# Speichere als neue Variable im Pandas DataFrame\n",
    "df['canton'] = cantons\n",
    "\n",
    "# Gib die ersten 5 Werte aus\n",
    "print(df['location_date'].head(5), '\\n')\n",
    "print(df['canton'].head(5))"
   ]
  },
  {
   "cell_type": "markdown",
   "id": "cef9821d",
   "metadata": {},
   "source": [
    "### Extract PLZ"
   ]
  },
  {
   "cell_type": "code",
   "execution_count": 10,
   "id": "f8954943",
   "metadata": {},
   "outputs": [
    {
     "name": "stdout",
     "output_type": "stream",
     "text": [
      "0      Waadt, 1026, 03.10.2018, auf autoscout24.ch\n",
      "1     Aargau, 5054, 08.09.2018, auf autoscout24.ch\n",
      "2    Thurgau, 8370, 26.06.2018, auf autoscout24.ch\n",
      "3       Bern, 3604, 04.06.2018, auf autoscout24.ch\n",
      "4       Bern, 4943, 04.04.2018, auf autoscout24.ch\n",
      "Name: location_date, dtype: object \n",
      "\n",
      "0    1026\n",
      "1    5054\n",
      "2    8370\n",
      "3    3604\n",
      "4    4943\n",
      "Name: plz, dtype: int64\n"
     ]
    }
   ],
   "source": [
    "\n",
    "# Extrahiere die PLZ, die nach dem ersten und vor dem zweiten Komma kommt\n",
    "plz_list = []\n",
    "for i in df['location_date']:\n",
    "    parts = i.split(',')\n",
    "    try:\n",
    "        plz = parts[1].strip()  # Wählt den zweiten Teil nach dem Split, der die PLZ enthält\n",
    "    except IndexError:\n",
    "        plz = None  # Falls weniger als 2 Kommas vorhanden sind\n",
    "    plz_list.append(plz)\n",
    "\n",
    "# Speichere als neue Variable im Pandas DataFrame\n",
    "df['plz'] = plz_list\n",
    "\n",
    "df = df[df['plz'].apply(lambda x: len(str(x)) == 4)]\n",
    "\n",
    "try:\n",
    "    df['plz'] = df['plz'].astype('int64')\n",
    "except ValueError:\n",
    "    print(\"Konvertierung fehlgeschlagen: Die Spalte enthält ungültige oder fehlende Werte.\")\n",
    "\n",
    "# Gib die ersten 5 Werte aus\n",
    "print(df['location_date'].head(5), '\\n')\n",
    "print(df['plz'].head(5))\n"
   ]
  },
  {
   "cell_type": "code",
   "execution_count": 11,
   "id": "038d7997",
   "metadata": {},
   "outputs": [
    {
     "data": {
      "text/plain": [
       "web-scraper-order        object\n",
       "web-scraper-start-url    object\n",
       "location_date            object\n",
       "brand_type               object\n",
       "price                    object\n",
       "canton                   object\n",
       "plz                       int64\n",
       "dtype: object"
      ]
     },
     "execution_count": 11,
     "metadata": {},
     "output_type": "execute_result"
    }
   ],
   "source": [
    "df.dtypes"
   ]
  },
  {
   "cell_type": "markdown",
   "id": "2ec96fcc",
   "metadata": {},
   "source": [
    "## Count and identify missing values (if any)"
   ]
  },
  {
   "cell_type": "code",
   "execution_count": 12,
   "id": "cc384d4b",
   "metadata": {},
   "outputs": [
    {
     "name": "stdout",
     "output_type": "stream",
     "text": [
      "web-scraper-order        0\n",
      "web-scraper-start-url    0\n",
      "location_date            0\n",
      "brand_type               0\n",
      "price                    0\n",
      "canton                   0\n",
      "plz                      0\n",
      "dtype: int64\n"
     ]
    },
    {
     "data": {
      "text/html": [
       "<div>\n",
       "<style scoped>\n",
       "    .dataframe tbody tr th:only-of-type {\n",
       "        vertical-align: middle;\n",
       "    }\n",
       "\n",
       "    .dataframe tbody tr th {\n",
       "        vertical-align: top;\n",
       "    }\n",
       "\n",
       "    .dataframe thead th {\n",
       "        text-align: right;\n",
       "    }\n",
       "</style>\n",
       "<table border=\"1\" class=\"dataframe\">\n",
       "  <thead>\n",
       "    <tr style=\"text-align: right;\">\n",
       "      <th></th>\n",
       "      <th>web-scraper-order</th>\n",
       "      <th>web-scraper-start-url</th>\n",
       "      <th>location_date</th>\n",
       "      <th>brand_type</th>\n",
       "      <th>price</th>\n",
       "      <th>canton</th>\n",
       "      <th>plz</th>\n",
       "    </tr>\n",
       "  </thead>\n",
       "  <tbody>\n",
       "  </tbody>\n",
       "</table>\n",
       "</div>"
      ],
      "text/plain": [
       "Empty DataFrame\n",
       "Columns: [web-scraper-order, web-scraper-start-url, location_date, brand_type, price, canton, plz]\n",
       "Index: []"
      ]
     },
     "execution_count": 12,
     "metadata": {},
     "output_type": "execute_result"
    }
   ],
   "source": [
    "# Count missing values\n",
    "print(pd.isna(df).sum())\n",
    "\n",
    "# Identify rows with missing values\n",
    "df[df.isna().any(axis=1)].head()"
   ]
  },
  {
   "cell_type": "markdown",
   "id": "b03d6d1b",
   "metadata": {},
   "source": [
    "### Count and identify dublicates"
   ]
  },
  {
   "cell_type": "code",
   "execution_count": 13,
   "id": "e19682cf",
   "metadata": {},
   "outputs": [
    {
     "name": "stdout",
     "output_type": "stream",
     "text": [
      "0\n"
     ]
    },
    {
     "data": {
      "text/html": [
       "<div>\n",
       "<style scoped>\n",
       "    .dataframe tbody tr th:only-of-type {\n",
       "        vertical-align: middle;\n",
       "    }\n",
       "\n",
       "    .dataframe tbody tr th {\n",
       "        vertical-align: top;\n",
       "    }\n",
       "\n",
       "    .dataframe thead th {\n",
       "        text-align: right;\n",
       "    }\n",
       "</style>\n",
       "<table border=\"1\" class=\"dataframe\">\n",
       "  <thead>\n",
       "    <tr style=\"text-align: right;\">\n",
       "      <th></th>\n",
       "      <th>web-scraper-order</th>\n",
       "      <th>web-scraper-start-url</th>\n",
       "      <th>location_date</th>\n",
       "      <th>brand_type</th>\n",
       "      <th>price</th>\n",
       "      <th>canton</th>\n",
       "      <th>plz</th>\n",
       "    </tr>\n",
       "  </thead>\n",
       "  <tbody>\n",
       "  </tbody>\n",
       "</table>\n",
       "</div>"
      ],
      "text/plain": [
       "Empty DataFrame\n",
       "Columns: [web-scraper-order, web-scraper-start-url, location_date, brand_type, price, canton, plz]\n",
       "Index: []"
      ]
     },
     "execution_count": 13,
     "metadata": {},
     "output_type": "execute_result"
    }
   ],
   "source": [
    "# Count duplicated values\n",
    "print(df.duplicated().sum())\n",
    "\n",
    "# Identify rows with duplicated values, e.g.:\n",
    "df[df[['web-scraper-order', 'location_date', 'brand_type']].duplicated()]"
   ]
  },
  {
   "cell_type": "code",
   "execution_count": 14,
   "id": "0f25b34e",
   "metadata": {},
   "outputs": [
    {
     "data": {
      "text/html": [
       "<div>\n",
       "<style scoped>\n",
       "    .dataframe tbody tr th:only-of-type {\n",
       "        vertical-align: middle;\n",
       "    }\n",
       "\n",
       "    .dataframe tbody tr th {\n",
       "        vertical-align: top;\n",
       "    }\n",
       "\n",
       "    .dataframe thead th {\n",
       "        text-align: right;\n",
       "    }\n",
       "</style>\n",
       "<table border=\"1\" class=\"dataframe\">\n",
       "  <thead>\n",
       "    <tr style=\"text-align: right;\">\n",
       "      <th></th>\n",
       "      <th>ort</th>\n",
       "      <th>bfs_number</th>\n",
       "      <th>plz</th>\n",
       "    </tr>\n",
       "  </thead>\n",
       "  <tbody>\n",
       "    <tr>\n",
       "      <th>0</th>\n",
       "      <td>Aeugst am Albis</td>\n",
       "      <td>1</td>\n",
       "      <td>8914</td>\n",
       "    </tr>\n",
       "    <tr>\n",
       "      <th>1</th>\n",
       "      <td>Aeugst am Albis</td>\n",
       "      <td>1</td>\n",
       "      <td>8914</td>\n",
       "    </tr>\n",
       "    <tr>\n",
       "      <th>2</th>\n",
       "      <td>Affoltern am Albis</td>\n",
       "      <td>2</td>\n",
       "      <td>8909</td>\n",
       "    </tr>\n",
       "    <tr>\n",
       "      <th>3</th>\n",
       "      <td>Affoltern am Albis</td>\n",
       "      <td>2</td>\n",
       "      <td>8910</td>\n",
       "    </tr>\n",
       "    <tr>\n",
       "      <th>4</th>\n",
       "      <td>Bonstetten</td>\n",
       "      <td>3</td>\n",
       "      <td>8906</td>\n",
       "    </tr>\n",
       "  </tbody>\n",
       "</table>\n",
       "</div>"
      ],
      "text/plain": [
       "                  ort  bfs_number   plz\n",
       "0     Aeugst am Albis           1  8914\n",
       "1     Aeugst am Albis           1  8914\n",
       "2  Affoltern am Albis           2  8909\n",
       "3  Affoltern am Albis           2  8910\n",
       "4          Bonstetten           3  8906"
      ]
     },
     "execution_count": 14,
     "metadata": {},
     "output_type": "execute_result"
    }
   ],
   "source": [
    "# Geocoded data (i.e. data with latitude and longitude)\n",
    "df_geo = pd.read_csv('/workspace/PLZ_Ortschaft_BFSNummer.csv', \n",
    "                     sep=';', \n",
    "                     encoding='utf-8')\n",
    "\n",
    "# Rename columns\n",
    "df_geo = df_geo.rename(columns={'Gemeindename':'ort',\n",
    "                                'BFS-Nr':'bfs_number', \n",
    "                                'PLZ':'plz'})\n",
    "\n",
    "# Show data\n",
    "df_geo[['ort', \n",
    "        'bfs_number', \n",
    "        'plz']].head()"
   ]
  },
  {
   "cell_type": "markdown",
   "id": "57e3bf17",
   "metadata": {},
   "source": [
    "### Join informations"
   ]
  },
  {
   "cell_type": "code",
   "execution_count": 15,
   "id": "37055fea",
   "metadata": {},
   "outputs": [
    {
     "data": {
      "text/html": [
       "<div>\n",
       "<style scoped>\n",
       "    .dataframe tbody tr th:only-of-type {\n",
       "        vertical-align: middle;\n",
       "    }\n",
       "\n",
       "    .dataframe tbody tr th {\n",
       "        vertical-align: top;\n",
       "    }\n",
       "\n",
       "    .dataframe thead th {\n",
       "        text-align: right;\n",
       "    }\n",
       "</style>\n",
       "<table border=\"1\" class=\"dataframe\">\n",
       "  <thead>\n",
       "    <tr style=\"text-align: right;\">\n",
       "      <th></th>\n",
       "      <th>web-scraper-order</th>\n",
       "      <th>web-scraper-start-url</th>\n",
       "      <th>location_date</th>\n",
       "      <th>brand_type</th>\n",
       "      <th>price</th>\n",
       "      <th>canton</th>\n",
       "      <th>plz</th>\n",
       "      <th>ort</th>\n",
       "      <th>bfs_number</th>\n",
       "    </tr>\n",
       "  </thead>\n",
       "  <tbody>\n",
       "    <tr>\n",
       "      <th>0</th>\n",
       "      <td>1703597180-1</td>\n",
       "      <td>https://www.tutti.ch/de/q/autos/Ak8CkY2Fyc5TAk...</td>\n",
       "      <td>Waadt, 1026, 03.10.2018, auf autoscout24.ch</td>\n",
       "      <td>LANCIA Dedra 2.0 i.e. LX</td>\n",
       "      <td>3'900.-</td>\n",
       "      <td>Waadt</td>\n",
       "      <td>1026</td>\n",
       "      <td>Denges</td>\n",
       "      <td>5632</td>\n",
       "    </tr>\n",
       "    <tr>\n",
       "      <th>1</th>\n",
       "      <td>1703597180-1</td>\n",
       "      <td>https://www.tutti.ch/de/q/autos/Ak8CkY2Fyc5TAk...</td>\n",
       "      <td>Waadt, 1026, 03.10.2018, auf autoscout24.ch</td>\n",
       "      <td>LANCIA Dedra 2.0 i.e. LX</td>\n",
       "      <td>3'900.-</td>\n",
       "      <td>Waadt</td>\n",
       "      <td>1026</td>\n",
       "      <td>Echandens</td>\n",
       "      <td>5633</td>\n",
       "    </tr>\n",
       "    <tr>\n",
       "      <th>2</th>\n",
       "      <td>1703597180-2</td>\n",
       "      <td>https://www.tutti.ch/de/q/autos/Ak8CkY2Fyc5TAk...</td>\n",
       "      <td>Aargau, 5054, 08.09.2018, auf autoscout24.ch</td>\n",
       "      <td>VW Golf 1800 S-Plus (GL)</td>\n",
       "      <td>5'990.-</td>\n",
       "      <td>Aargau</td>\n",
       "      <td>5054</td>\n",
       "      <td>Kirchleerau</td>\n",
       "      <td>4275</td>\n",
       "    </tr>\n",
       "    <tr>\n",
       "      <th>3</th>\n",
       "      <td>1703597180-2</td>\n",
       "      <td>https://www.tutti.ch/de/q/autos/Ak8CkY2Fyc5TAk...</td>\n",
       "      <td>Aargau, 5054, 08.09.2018, auf autoscout24.ch</td>\n",
       "      <td>VW Golf 1800 S-Plus (GL)</td>\n",
       "      <td>5'990.-</td>\n",
       "      <td>Aargau</td>\n",
       "      <td>5054</td>\n",
       "      <td>Moosleerau</td>\n",
       "      <td>4277</td>\n",
       "    </tr>\n",
       "    <tr>\n",
       "      <th>4</th>\n",
       "      <td>1703597192-34</td>\n",
       "      <td>https://www.tutti.ch/de/q/autos/Ak8CkY2Fyc5TAk...</td>\n",
       "      <td>Aargau, 5054, 16.03.2020, auf autoscout24.ch</td>\n",
       "      <td>MITSUBISHI Colt 1400 GLX A</td>\n",
       "      <td>5'990.-</td>\n",
       "      <td>Aargau</td>\n",
       "      <td>5054</td>\n",
       "      <td>Kirchleerau</td>\n",
       "      <td>4275</td>\n",
       "    </tr>\n",
       "  </tbody>\n",
       "</table>\n",
       "</div>"
      ],
      "text/plain": [
       "  web-scraper-order                              web-scraper-start-url  \\\n",
       "0      1703597180-1  https://www.tutti.ch/de/q/autos/Ak8CkY2Fyc5TAk...   \n",
       "1      1703597180-1  https://www.tutti.ch/de/q/autos/Ak8CkY2Fyc5TAk...   \n",
       "2      1703597180-2  https://www.tutti.ch/de/q/autos/Ak8CkY2Fyc5TAk...   \n",
       "3      1703597180-2  https://www.tutti.ch/de/q/autos/Ak8CkY2Fyc5TAk...   \n",
       "4     1703597192-34  https://www.tutti.ch/de/q/autos/Ak8CkY2Fyc5TAk...   \n",
       "\n",
       "                                  location_date                  brand_type  \\\n",
       "0   Waadt, 1026, 03.10.2018, auf autoscout24.ch    LANCIA Dedra 2.0 i.e. LX   \n",
       "1   Waadt, 1026, 03.10.2018, auf autoscout24.ch    LANCIA Dedra 2.0 i.e. LX   \n",
       "2  Aargau, 5054, 08.09.2018, auf autoscout24.ch    VW Golf 1800 S-Plus (GL)   \n",
       "3  Aargau, 5054, 08.09.2018, auf autoscout24.ch    VW Golf 1800 S-Plus (GL)   \n",
       "4  Aargau, 5054, 16.03.2020, auf autoscout24.ch  MITSUBISHI Colt 1400 GLX A   \n",
       "\n",
       "     price  canton   plz          ort  bfs_number  \n",
       "0  3'900.-   Waadt  1026       Denges        5632  \n",
       "1  3'900.-   Waadt  1026    Echandens        5633  \n",
       "2  5'990.-  Aargau  5054  Kirchleerau        4275  \n",
       "3  5'990.-  Aargau  5054   Moosleerau        4277  \n",
       "4  5'990.-  Aargau  5054  Kirchleerau        4275  "
      ]
     },
     "execution_count": 15,
     "metadata": {},
     "output_type": "execute_result"
    }
   ],
   "source": [
    "df2 = df.merge(df_geo[['ort',  \n",
    "                       'bfs_number', \n",
    "                       'plz']], \n",
    "               on=\"plz\")\n",
    "df2.head()\n"
   ]
  },
  {
   "cell_type": "markdown",
   "id": "1338922c",
   "metadata": {},
   "source": [
    "## Add municipalities"
   ]
  },
  {
   "cell_type": "code",
   "execution_count": 16,
   "id": "2249b3df",
   "metadata": {},
   "outputs": [
    {
     "data": {
      "text/html": [
       "<div>\n",
       "<style scoped>\n",
       "    .dataframe tbody tr th:only-of-type {\n",
       "        vertical-align: middle;\n",
       "    }\n",
       "\n",
       "    .dataframe tbody tr th {\n",
       "        vertical-align: top;\n",
       "    }\n",
       "\n",
       "    .dataframe thead th {\n",
       "        text-align: right;\n",
       "    }\n",
       "</style>\n",
       "<table border=\"1\" class=\"dataframe\">\n",
       "  <thead>\n",
       "    <tr style=\"text-align: right;\">\n",
       "      <th></th>\n",
       "      <th>bfs_number</th>\n",
       "      <th>bfs_name</th>\n",
       "      <th>pop</th>\n",
       "      <th>pop_dens</th>\n",
       "      <th>frg_pct</th>\n",
       "      <th>emp</th>\n",
       "    </tr>\n",
       "  </thead>\n",
       "  <tbody>\n",
       "    <tr>\n",
       "      <th>0</th>\n",
       "      <td>1</td>\n",
       "      <td>Aeugst am Albis</td>\n",
       "      <td>1981</td>\n",
       "      <td>250.442478</td>\n",
       "      <td>14.184755</td>\n",
       "      <td>442.0</td>\n",
       "    </tr>\n",
       "    <tr>\n",
       "      <th>1</th>\n",
       "      <td>2</td>\n",
       "      <td>Affoltern am Albis</td>\n",
       "      <td>12303</td>\n",
       "      <td>1161.756374</td>\n",
       "      <td>28.700317</td>\n",
       "      <td>6920.0</td>\n",
       "    </tr>\n",
       "    <tr>\n",
       "      <th>2</th>\n",
       "      <td>3</td>\n",
       "      <td>Bonstetten</td>\n",
       "      <td>5572</td>\n",
       "      <td>749.932705</td>\n",
       "      <td>16.564968</td>\n",
       "      <td>1014.0</td>\n",
       "    </tr>\n",
       "    <tr>\n",
       "      <th>3</th>\n",
       "      <td>4</td>\n",
       "      <td>Hausen am Albis</td>\n",
       "      <td>3751</td>\n",
       "      <td>275.808824</td>\n",
       "      <td>16.022394</td>\n",
       "      <td>1021.0</td>\n",
       "    </tr>\n",
       "    <tr>\n",
       "      <th>4</th>\n",
       "      <td>5</td>\n",
       "      <td>Hedingen</td>\n",
       "      <td>3778</td>\n",
       "      <td>578.560490</td>\n",
       "      <td>16.410799</td>\n",
       "      <td>1478.0</td>\n",
       "    </tr>\n",
       "  </tbody>\n",
       "</table>\n",
       "</div>"
      ],
      "text/plain": [
       "   bfs_number            bfs_name    pop     pop_dens    frg_pct     emp\n",
       "0           1     Aeugst am Albis   1981   250.442478  14.184755   442.0\n",
       "1           2  Affoltern am Albis  12303  1161.756374  28.700317  6920.0\n",
       "2           3          Bonstetten   5572   749.932705  16.564968  1014.0\n",
       "3           4     Hausen am Albis   3751   275.808824  16.022394  1021.0\n",
       "4           5            Hedingen   3778   578.560490  16.410799  1478.0"
      ]
     },
     "execution_count": 16,
     "metadata": {},
     "output_type": "execute_result"
    }
   ],
   "source": [
    "df_municip = pd.read_excel('/workspace/municipality_data.xlsx', \n",
    "                           sheet_name='data_for_import')\n",
    "df_municip.head(5)"
   ]
  },
  {
   "cell_type": "code",
   "execution_count": 18,
   "id": "4349e661",
   "metadata": {},
   "outputs": [
    {
     "data": {
      "text/html": [
       "<div>\n",
       "<style scoped>\n",
       "    .dataframe tbody tr th:only-of-type {\n",
       "        vertical-align: middle;\n",
       "    }\n",
       "\n",
       "    .dataframe tbody tr th {\n",
       "        vertical-align: top;\n",
       "    }\n",
       "\n",
       "    .dataframe thead th {\n",
       "        text-align: right;\n",
       "    }\n",
       "</style>\n",
       "<table border=\"1\" class=\"dataframe\">\n",
       "  <thead>\n",
       "    <tr style=\"text-align: right;\">\n",
       "      <th></th>\n",
       "      <th>web-scraper-order</th>\n",
       "      <th>web-scraper-start-url</th>\n",
       "      <th>location_date</th>\n",
       "      <th>brand_type</th>\n",
       "      <th>price</th>\n",
       "      <th>canton</th>\n",
       "      <th>plz</th>\n",
       "      <th>ort</th>\n",
       "      <th>bfs_number</th>\n",
       "      <th>pop</th>\n",
       "      <th>pop_dens</th>\n",
       "      <th>frg_pct</th>\n",
       "      <th>emp</th>\n",
       "    </tr>\n",
       "  </thead>\n",
       "  <tbody>\n",
       "    <tr>\n",
       "      <th>0</th>\n",
       "      <td>1703597180-1</td>\n",
       "      <td>https://www.tutti.ch/de/q/autos/Ak8CkY2Fyc5TAk...</td>\n",
       "      <td>Waadt, 1026, 03.10.2018, auf autoscout24.ch</td>\n",
       "      <td>LANCIA Dedra 2.0 i.e. LX</td>\n",
       "      <td>3'900.-</td>\n",
       "      <td>Waadt</td>\n",
       "      <td>1026</td>\n",
       "      <td>Denges</td>\n",
       "      <td>5632</td>\n",
       "      <td>1608</td>\n",
       "      <td>968.674699</td>\n",
       "      <td>29.228856</td>\n",
       "      <td>895.0</td>\n",
       "    </tr>\n",
       "    <tr>\n",
       "      <th>1</th>\n",
       "      <td>1703597180-1</td>\n",
       "      <td>https://www.tutti.ch/de/q/autos/Ak8CkY2Fyc5TAk...</td>\n",
       "      <td>Waadt, 1026, 03.10.2018, auf autoscout24.ch</td>\n",
       "      <td>LANCIA Dedra 2.0 i.e. LX</td>\n",
       "      <td>3'900.-</td>\n",
       "      <td>Waadt</td>\n",
       "      <td>1026</td>\n",
       "      <td>Echandens</td>\n",
       "      <td>5633</td>\n",
       "      <td>2733</td>\n",
       "      <td>704.381443</td>\n",
       "      <td>28.357117</td>\n",
       "      <td>1538.0</td>\n",
       "    </tr>\n",
       "    <tr>\n",
       "      <th>2</th>\n",
       "      <td>1703597180-2</td>\n",
       "      <td>https://www.tutti.ch/de/q/autos/Ak8CkY2Fyc5TAk...</td>\n",
       "      <td>Aargau, 5054, 08.09.2018, auf autoscout24.ch</td>\n",
       "      <td>VW Golf 1800 S-Plus (GL)</td>\n",
       "      <td>5'990.-</td>\n",
       "      <td>Aargau</td>\n",
       "      <td>5054</td>\n",
       "      <td>Kirchleerau</td>\n",
       "      <td>4275</td>\n",
       "      <td>870</td>\n",
       "      <td>199.541284</td>\n",
       "      <td>10.689655</td>\n",
       "      <td>259.0</td>\n",
       "    </tr>\n",
       "    <tr>\n",
       "      <th>3</th>\n",
       "      <td>1703597192-34</td>\n",
       "      <td>https://www.tutti.ch/de/q/autos/Ak8CkY2Fyc5TAk...</td>\n",
       "      <td>Aargau, 5054, 16.03.2020, auf autoscout24.ch</td>\n",
       "      <td>MITSUBISHI Colt 1400 GLX A</td>\n",
       "      <td>5'990.-</td>\n",
       "      <td>Aargau</td>\n",
       "      <td>5054</td>\n",
       "      <td>Kirchleerau</td>\n",
       "      <td>4275</td>\n",
       "      <td>870</td>\n",
       "      <td>199.541284</td>\n",
       "      <td>10.689655</td>\n",
       "      <td>259.0</td>\n",
       "    </tr>\n",
       "    <tr>\n",
       "      <th>4</th>\n",
       "      <td>1703597214-95</td>\n",
       "      <td>https://www.tutti.ch/de/q/autos/Ak8CkY2Fyc5TAk...</td>\n",
       "      <td>Aargau, 5054, 02.03.2022, auf Autoscout24.ch</td>\n",
       "      <td>ROVER 827 Vitesse A</td>\n",
       "      <td>6'990.-</td>\n",
       "      <td>Aargau</td>\n",
       "      <td>5054</td>\n",
       "      <td>Kirchleerau</td>\n",
       "      <td>4275</td>\n",
       "      <td>870</td>\n",
       "      <td>199.541284</td>\n",
       "      <td>10.689655</td>\n",
       "      <td>259.0</td>\n",
       "    </tr>\n",
       "  </tbody>\n",
       "</table>\n",
       "</div>"
      ],
      "text/plain": [
       "  web-scraper-order                              web-scraper-start-url  \\\n",
       "0      1703597180-1  https://www.tutti.ch/de/q/autos/Ak8CkY2Fyc5TAk...   \n",
       "1      1703597180-1  https://www.tutti.ch/de/q/autos/Ak8CkY2Fyc5TAk...   \n",
       "2      1703597180-2  https://www.tutti.ch/de/q/autos/Ak8CkY2Fyc5TAk...   \n",
       "3     1703597192-34  https://www.tutti.ch/de/q/autos/Ak8CkY2Fyc5TAk...   \n",
       "4     1703597214-95  https://www.tutti.ch/de/q/autos/Ak8CkY2Fyc5TAk...   \n",
       "\n",
       "                                  location_date                  brand_type  \\\n",
       "0   Waadt, 1026, 03.10.2018, auf autoscout24.ch    LANCIA Dedra 2.0 i.e. LX   \n",
       "1   Waadt, 1026, 03.10.2018, auf autoscout24.ch    LANCIA Dedra 2.0 i.e. LX   \n",
       "2  Aargau, 5054, 08.09.2018, auf autoscout24.ch    VW Golf 1800 S-Plus (GL)   \n",
       "3  Aargau, 5054, 16.03.2020, auf autoscout24.ch  MITSUBISHI Colt 1400 GLX A   \n",
       "4  Aargau, 5054, 02.03.2022, auf Autoscout24.ch         ROVER 827 Vitesse A   \n",
       "\n",
       "     price  canton   plz          ort  bfs_number   pop    pop_dens  \\\n",
       "0  3'900.-   Waadt  1026       Denges        5632  1608  968.674699   \n",
       "1  3'900.-   Waadt  1026    Echandens        5633  2733  704.381443   \n",
       "2  5'990.-  Aargau  5054  Kirchleerau        4275   870  199.541284   \n",
       "3  5'990.-  Aargau  5054  Kirchleerau        4275   870  199.541284   \n",
       "4  6'990.-  Aargau  5054  Kirchleerau        4275   870  199.541284   \n",
       "\n",
       "     frg_pct     emp  \n",
       "0  29.228856   895.0  \n",
       "1  28.357117  1538.0  \n",
       "2  10.689655   259.0  \n",
       "3  10.689655   259.0  \n",
       "4  10.689655   259.0  "
      ]
     },
     "execution_count": 18,
     "metadata": {},
     "output_type": "execute_result"
    }
   ],
   "source": [
    "# Merge needs a key which must be identical in both data sets (here the key is 'bfs_number')\n",
    "df3 = df2.merge(df_municip[['bfs_number', \n",
    "                            'pop', \n",
    "                            'pop_dens', \n",
    "                            'frg_pct', \n",
    "                            'emp']], \n",
    "                on=\"bfs_number\")\n",
    "df3.head(5)"
   ]
  },
  {
   "cell_type": "markdown",
   "id": "66164662",
   "metadata": {},
   "source": [
    "## Write data to database"
   ]
  },
  {
   "cell_type": "code",
   "execution_count": 23,
   "id": "cfd07b2d-1b23-4c93-b3f9-ccc3dcc73c31",
   "metadata": {},
   "outputs": [
    {
     "data": {
      "text/plain": [
       "820"
      ]
     },
     "execution_count": 23,
     "metadata": {},
     "output_type": "execute_result"
    }
   ],
   "source": [
    "engine = create_engine('postgresql://app_user:app_password@db:5432/app')\n",
    "df3.to_sql('car_table', engine, if_exists='replace')"
   ]
  },
  {
   "cell_type": "markdown",
   "id": "2b80dc61",
   "metadata": {},
   "source": [
    "## Make SQL query"
   ]
  },
  {
   "cell_type": "code",
   "execution_count": 24,
   "id": "077a187d-05be-4c30-a367-a4e1a19d4466",
   "metadata": {},
   "outputs": [
    {
     "data": {
      "text/html": [
       "<div>\n",
       "<style scoped>\n",
       "    .dataframe tbody tr th:only-of-type {\n",
       "        vertical-align: middle;\n",
       "    }\n",
       "\n",
       "    .dataframe tbody tr th {\n",
       "        vertical-align: top;\n",
       "    }\n",
       "\n",
       "    .dataframe thead th {\n",
       "        text-align: right;\n",
       "    }\n",
       "</style>\n",
       "<table border=\"1\" class=\"dataframe\">\n",
       "  <thead>\n",
       "    <tr style=\"text-align: right;\">\n",
       "      <th></th>\n",
       "      <th>brand_type</th>\n",
       "      <th>price</th>\n",
       "      <th>canton</th>\n",
       "      <th>plz</th>\n",
       "      <th>ort</th>\n",
       "      <th>bfs_number</th>\n",
       "      <th>pop</th>\n",
       "      <th>pop_dens</th>\n",
       "      <th>frg_pct</th>\n",
       "      <th>emp</th>\n",
       "    </tr>\n",
       "  </thead>\n",
       "  <tbody>\n",
       "    <tr>\n",
       "      <th>0</th>\n",
       "      <td>LANCIA Dedra 2.0 i.e. LX</td>\n",
       "      <td>3'900.-</td>\n",
       "      <td>Waadt</td>\n",
       "      <td>1026</td>\n",
       "      <td>Denges</td>\n",
       "      <td>5632</td>\n",
       "      <td>1608</td>\n",
       "      <td>968.674699</td>\n",
       "      <td>29.228856</td>\n",
       "      <td>895.0</td>\n",
       "    </tr>\n",
       "    <tr>\n",
       "      <th>1</th>\n",
       "      <td>LANCIA Dedra 2.0 i.e. LX</td>\n",
       "      <td>3'900.-</td>\n",
       "      <td>Waadt</td>\n",
       "      <td>1026</td>\n",
       "      <td>Echandens</td>\n",
       "      <td>5633</td>\n",
       "      <td>2733</td>\n",
       "      <td>704.381443</td>\n",
       "      <td>28.357117</td>\n",
       "      <td>1538.0</td>\n",
       "    </tr>\n",
       "    <tr>\n",
       "      <th>2</th>\n",
       "      <td>VW Golf 1800 S-Plus (GL)</td>\n",
       "      <td>5'990.-</td>\n",
       "      <td>Aargau</td>\n",
       "      <td>5054</td>\n",
       "      <td>Kirchleerau</td>\n",
       "      <td>4275</td>\n",
       "      <td>870</td>\n",
       "      <td>199.541284</td>\n",
       "      <td>10.689655</td>\n",
       "      <td>259.0</td>\n",
       "    </tr>\n",
       "    <tr>\n",
       "      <th>3</th>\n",
       "      <td>MITSUBISHI Colt 1400 GLX A</td>\n",
       "      <td>5'990.-</td>\n",
       "      <td>Aargau</td>\n",
       "      <td>5054</td>\n",
       "      <td>Kirchleerau</td>\n",
       "      <td>4275</td>\n",
       "      <td>870</td>\n",
       "      <td>199.541284</td>\n",
       "      <td>10.689655</td>\n",
       "      <td>259.0</td>\n",
       "    </tr>\n",
       "    <tr>\n",
       "      <th>4</th>\n",
       "      <td>ROVER 827 Vitesse A</td>\n",
       "      <td>6'990.-</td>\n",
       "      <td>Aargau</td>\n",
       "      <td>5054</td>\n",
       "      <td>Kirchleerau</td>\n",
       "      <td>4275</td>\n",
       "      <td>870</td>\n",
       "      <td>199.541284</td>\n",
       "      <td>10.689655</td>\n",
       "      <td>259.0</td>\n",
       "    </tr>\n",
       "  </tbody>\n",
       "</table>\n",
       "</div>"
      ],
      "text/plain": [
       "                   brand_type    price  canton   plz          ort  bfs_number  \\\n",
       "0    LANCIA Dedra 2.0 i.e. LX  3'900.-   Waadt  1026       Denges        5632   \n",
       "1    LANCIA Dedra 2.0 i.e. LX  3'900.-   Waadt  1026    Echandens        5633   \n",
       "2    VW Golf 1800 S-Plus (GL)  5'990.-  Aargau  5054  Kirchleerau        4275   \n",
       "3  MITSUBISHI Colt 1400 GLX A  5'990.-  Aargau  5054  Kirchleerau        4275   \n",
       "4         ROVER 827 Vitesse A  6'990.-  Aargau  5054  Kirchleerau        4275   \n",
       "\n",
       "    pop    pop_dens    frg_pct     emp  \n",
       "0  1608  968.674699  29.228856   895.0  \n",
       "1  2733  704.381443  28.357117  1538.0  \n",
       "2   870  199.541284  10.689655   259.0  \n",
       "3   870  199.541284  10.689655   259.0  \n",
       "4   870  199.541284  10.689655   259.0  "
      ]
     },
     "execution_count": 24,
     "metadata": {},
     "output_type": "execute_result"
    }
   ],
   "source": [
    "df_sub = pd.read_sql_query('''SELECT\n",
    "                             brand_type,\n",
    "                             price,\n",
    "                           canton,\n",
    "                           plz,\n",
    "                           ort,\n",
    "                           bfs_number,\n",
    "                           pop,\n",
    "                           pop_dens,\n",
    "                           frg_pct,\n",
    "                           emp\n",
    "                             FROM car_table''', \n",
    "                          con=engine)\n",
    "df_sub.head()"
   ]
  },
  {
   "cell_type": "markdown",
   "id": "5a828fd6-ebe9-431d-b0ab-0ee97e96cf53",
   "metadata": {},
   "source": [
    "## Plot apartment prices"
   ]
  },
  {
   "cell_type": "code",
   "execution_count": null,
   "id": "e57b9583-89b5-4b58-b8a1-1349f21d086a",
   "metadata": {},
   "outputs": [
    {
     "ename": "AttributeError",
     "evalue": "This method only works with the ScalarFormatter",
     "output_type": "error",
     "traceback": [
      "\u001b[0;31m---------------------------------------------------------------------------\u001b[0m",
      "\u001b[0;31mAttributeError\u001b[0m                            Traceback (most recent call last)",
      "File \u001b[0;32m~/.local/lib/python3.10/site-packages/matplotlib/axes/_base.py:3260\u001b[0m, in \u001b[0;36m_AxesBase.ticklabel_format\u001b[0;34m(self, axis, style, scilimits, useOffset, useLocale, useMathText)\u001b[0m\n\u001b[1;32m   3259\u001b[0m \u001b[38;5;28;01mif\u001b[39;00m is_sci_style \u001b[38;5;129;01mis\u001b[39;00m \u001b[38;5;129;01mnot\u001b[39;00m \u001b[38;5;28;01mNone\u001b[39;00m:\n\u001b[0;32m-> 3260\u001b[0m     \u001b[43maxis\u001b[49m\u001b[38;5;241;43m.\u001b[39;49m\u001b[43mmajor\u001b[49m\u001b[38;5;241;43m.\u001b[39;49m\u001b[43mformatter\u001b[49m\u001b[38;5;241;43m.\u001b[39;49m\u001b[43mset_scientific\u001b[49m(is_sci_style)\n\u001b[1;32m   3261\u001b[0m \u001b[38;5;28;01mif\u001b[39;00m scilimits \u001b[38;5;129;01mis\u001b[39;00m \u001b[38;5;129;01mnot\u001b[39;00m \u001b[38;5;28;01mNone\u001b[39;00m:\n",
      "\u001b[0;31mAttributeError\u001b[0m: 'StrCategoryFormatter' object has no attribute 'set_scientific'",
      "\nThe above exception was the direct cause of the following exception:\n",
      "\u001b[0;31mAttributeError\u001b[0m                            Traceback (most recent call last)",
      "Cell \u001b[0;32mIn[6], line 12\u001b[0m\n\u001b[1;32m      5\u001b[0m n, bins, patches \u001b[38;5;241m=\u001b[39m plt\u001b[38;5;241m.\u001b[39mhist(x\u001b[38;5;241m=\u001b[39mdf[\u001b[38;5;124m'\u001b[39m\u001b[38;5;124mprice\u001b[39m\u001b[38;5;124m'\u001b[39m], \n\u001b[1;32m      6\u001b[0m                             bins\u001b[38;5;241m=\u001b[39m\u001b[38;5;241m20\u001b[39m, \n\u001b[1;32m      7\u001b[0m                             color\u001b[38;5;241m=\u001b[39m\u001b[38;5;124m'\u001b[39m\u001b[38;5;124m#5DADE2\u001b[39m\u001b[38;5;124m'\u001b[39m,\n\u001b[1;32m      8\u001b[0m                             alpha\u001b[38;5;241m=\u001b[39m\u001b[38;5;241m1.00\u001b[39m, \n\u001b[1;32m      9\u001b[0m                             rwidth\u001b[38;5;241m=\u001b[39m\u001b[38;5;241m0.95\u001b[39m\n\u001b[1;32m     10\u001b[0m                    )\n\u001b[1;32m     11\u001b[0m plt\u001b[38;5;241m.\u001b[39mgrid(\u001b[38;5;28;01mTrue\u001b[39;00m)\n\u001b[0;32m---> 12\u001b[0m \u001b[43mplt\u001b[49m\u001b[38;5;241;43m.\u001b[39;49m\u001b[43mticklabel_format\u001b[49m\u001b[43m(\u001b[49m\u001b[43mstyle\u001b[49m\u001b[38;5;241;43m=\u001b[39;49m\u001b[38;5;124;43m'\u001b[39;49m\u001b[38;5;124;43mplain\u001b[39;49m\u001b[38;5;124;43m'\u001b[39;49m\u001b[43m)\u001b[49m\n\u001b[1;32m     13\u001b[0m plt\u001b[38;5;241m.\u001b[39mgrid(axis\u001b[38;5;241m=\u001b[39m\u001b[38;5;124m'\u001b[39m\u001b[38;5;124my\u001b[39m\u001b[38;5;124m'\u001b[39m, alpha\u001b[38;5;241m=\u001b[39m\u001b[38;5;241m0.75\u001b[39m)\n\u001b[1;32m     15\u001b[0m \u001b[38;5;66;03m# Set labels\u001b[39;00m\n",
      "File \u001b[0;32m~/.local/lib/python3.10/site-packages/matplotlib/pyplot.py:2999\u001b[0m, in \u001b[0;36mticklabel_format\u001b[0;34m(axis, style, scilimits, useOffset, useLocale, useMathText)\u001b[0m\n\u001b[1;32m   2995\u001b[0m \u001b[38;5;129m@_copy_docstring_and_deprecators\u001b[39m(Axes\u001b[38;5;241m.\u001b[39mticklabel_format)\n\u001b[1;32m   2996\u001b[0m \u001b[38;5;28;01mdef\u001b[39;00m \u001b[38;5;21mticklabel_format\u001b[39m(\n\u001b[1;32m   2997\u001b[0m         \u001b[38;5;241m*\u001b[39m, axis\u001b[38;5;241m=\u001b[39m\u001b[38;5;124m'\u001b[39m\u001b[38;5;124mboth\u001b[39m\u001b[38;5;124m'\u001b[39m, style\u001b[38;5;241m=\u001b[39m\u001b[38;5;124m'\u001b[39m\u001b[38;5;124m'\u001b[39m, scilimits\u001b[38;5;241m=\u001b[39m\u001b[38;5;28;01mNone\u001b[39;00m, useOffset\u001b[38;5;241m=\u001b[39m\u001b[38;5;28;01mNone\u001b[39;00m,\n\u001b[1;32m   2998\u001b[0m         useLocale\u001b[38;5;241m=\u001b[39m\u001b[38;5;28;01mNone\u001b[39;00m, useMathText\u001b[38;5;241m=\u001b[39m\u001b[38;5;28;01mNone\u001b[39;00m):\n\u001b[0;32m-> 2999\u001b[0m     \u001b[38;5;28;01mreturn\u001b[39;00m \u001b[43mgca\u001b[49m\u001b[43m(\u001b[49m\u001b[43m)\u001b[49m\u001b[38;5;241;43m.\u001b[39;49m\u001b[43mticklabel_format\u001b[49m\u001b[43m(\u001b[49m\n\u001b[1;32m   3000\u001b[0m \u001b[43m        \u001b[49m\u001b[43maxis\u001b[49m\u001b[38;5;241;43m=\u001b[39;49m\u001b[43maxis\u001b[49m\u001b[43m,\u001b[49m\u001b[43m \u001b[49m\u001b[43mstyle\u001b[49m\u001b[38;5;241;43m=\u001b[39;49m\u001b[43mstyle\u001b[49m\u001b[43m,\u001b[49m\u001b[43m \u001b[49m\u001b[43mscilimits\u001b[49m\u001b[38;5;241;43m=\u001b[39;49m\u001b[43mscilimits\u001b[49m\u001b[43m,\u001b[49m\n\u001b[1;32m   3001\u001b[0m \u001b[43m        \u001b[49m\u001b[43museOffset\u001b[49m\u001b[38;5;241;43m=\u001b[39;49m\u001b[43museOffset\u001b[49m\u001b[43m,\u001b[49m\u001b[43m \u001b[49m\u001b[43museLocale\u001b[49m\u001b[38;5;241;43m=\u001b[39;49m\u001b[43museLocale\u001b[49m\u001b[43m,\u001b[49m\n\u001b[1;32m   3002\u001b[0m \u001b[43m        \u001b[49m\u001b[43museMathText\u001b[49m\u001b[38;5;241;43m=\u001b[39;49m\u001b[43museMathText\u001b[49m\u001b[43m)\u001b[49m\n",
      "File \u001b[0;32m~/.local/lib/python3.10/site-packages/matplotlib/axes/_base.py:3270\u001b[0m, in \u001b[0;36m_AxesBase.ticklabel_format\u001b[0;34m(self, axis, style, scilimits, useOffset, useLocale, useMathText)\u001b[0m\n\u001b[1;32m   3268\u001b[0m             axis\u001b[38;5;241m.\u001b[39mmajor\u001b[38;5;241m.\u001b[39mformatter\u001b[38;5;241m.\u001b[39mset_useMathText(useMathText)\n\u001b[1;32m   3269\u001b[0m \u001b[38;5;28;01mexcept\u001b[39;00m \u001b[38;5;167;01mAttributeError\u001b[39;00m \u001b[38;5;28;01mas\u001b[39;00m err:\n\u001b[0;32m-> 3270\u001b[0m     \u001b[38;5;28;01mraise\u001b[39;00m \u001b[38;5;167;01mAttributeError\u001b[39;00m(\n\u001b[1;32m   3271\u001b[0m         \u001b[38;5;124m\"\u001b[39m\u001b[38;5;124mThis method only works with the ScalarFormatter\u001b[39m\u001b[38;5;124m\"\u001b[39m) \u001b[38;5;28;01mfrom\u001b[39;00m \u001b[38;5;21;01merr\u001b[39;00m\n",
      "\u001b[0;31mAttributeError\u001b[0m: This method only works with the ScalarFormatter"
     ]
    },
    {
     "data": {
      "image/png": "[encoded data removed]",
      "text/plain": [
       "<Figure size 700x400 with 1 Axes>"
      ]
     },
     "metadata": {},
     "output_type": "display_data"
    }
   ],
   "source": [
    "# Plot Histogram\n",
    "fig = plt.figure( figsize=(7,4))\n",
    "plt.xticks(fontsize=14, rotation=0)\n",
    "plt.yticks(fontsize=14, rotation=0)\n",
    "n, bins, patches = plt.hist(x=df['price'], \n",
    "                            bins=20, \n",
    "                            color='#5DADE2',\n",
    "                            alpha=1.00, \n",
    "                            rwidth=0.95\n",
    "                   )\n",
    "plt.grid(True)\n",
    "plt.ticklabel_format(style='plain')\n",
    "plt.grid(axis='y', alpha=0.75)\n",
    "\n",
    "# Set labels\n",
    "plt.xlabel('price', fontsize=10, labelpad=10)\n",
    "plt.ylabel('Frequency', fontsize=10, labelpad=10)\n",
    "plt.title('Histogram of apartment prices', fontsize=12, pad=10)\n",
    "\n",
    "# Set fontsize of tick labels\n",
    "plt.xticks(fontsize = 10)\n",
    "plt.yticks(fontsize = 10)\n",
    "\n",
    "plt.show()"
   ]
  },
  {
   "attachments": {},
   "cell_type": "markdown",
   "id": "ff525b1e",
   "metadata": {},
   "source": [
    "### Jupyter notebook --footer info-- (please always provide this at the end of each notebook)"
   ]
  },
  {
   "cell_type": "code",
   "execution_count": null,
   "id": "e6cae5b2",
   "metadata": {},
   "outputs": [
    {
     "name": "stdout",
     "output_type": "stream",
     "text": [
      "-----------------------------------\n",
      "POSIX\n",
      "Linux | 6.2.0-1018-azure\n",
      "Datetime: 2023-12-30 12:40:34\n",
      "Python Version: 3.10.12\n",
      "-----------------------------------\n"
     ]
    }
   ],
   "source": [
    "import os\n",
    "import platform\n",
    "import socket\n",
    "from platform import python_version\n",
    "from datetime import datetime\n",
    "\n",
    "print('-----------------------------------')\n",
    "print(os.name.upper())\n",
    "print(platform.system(), '|', platform.release())\n",
    "print('Datetime:', datetime.now().strftime(\"%Y-%m-%d %H:%M:%S\"))\n",
    "print('Python Version:', python_version())\n",
    "print('-----------------------------------')"
   ]
  }
 ],
 "metadata": {
  "kernelspec": {
   "display_name": "Python 3",
   "language": "python",
   "name": "python3"
  },
  "language_info": {
   "codemirror_mode": {
    "name": "ipython",
    "version": 3
   },
   "file_extension": ".py",
   "mimetype": "text/x-python",
   "name": "python",
   "nbconvert_exporter": "python",
   "pygments_lexer": "ipython3",
   "version": "3.10.12"
  }
 },
 "nbformat": 4,
 "nbformat_minor": 5
}
